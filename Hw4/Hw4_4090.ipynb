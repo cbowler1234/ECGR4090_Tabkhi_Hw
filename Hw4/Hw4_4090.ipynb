{
  "nbformat": 4,
  "nbformat_minor": 0,
  "metadata": {
    "kernelspec": {
      "display_name": "Python 3",
      "language": "python",
      "name": "python3"
    },
    "language_info": {
      "codemirror_mode": {
        "name": "ipython",
        "version": 3
      },
      "file_extension": ".py",
      "mimetype": "text/x-python",
      "name": "python",
      "nbconvert_exporter": "python",
      "pygments_lexer": "ipython3",
      "version": "3.7.6"
    },
    "colab": {
      "name": "Hw4_4090",
      "provenance": [],
      "include_colab_link": true
    },
    "accelerator": "GPU"
  },
  "cells": [
    {
      "cell_type": "markdown",
      "metadata": {
        "id": "view-in-github",
        "colab_type": "text"
      },
      "source": [
        "<a href=\"https://colab.research.google.com/github/cbowler1234/ECGR4090_Tabkhi_Hw/blob/main/Hw4/Hw4_4090.ipynb\" target=\"_parent\"><img src=\"https://colab.research.google.com/assets/colab-badge.svg\" alt=\"Open In Colab\"/></a>"
      ]
    },
    {
      "cell_type": "code",
      "metadata": {
        "id": "9qSCN97Yav6P",
        "colab": {
          "base_uri": "https://localhost:8080/"
        },
        "outputId": "4ad2dfee-01ce-4ade-afd5-d715bd165c80"
      },
      "source": [
        "%matplotlib inline\n",
        "from matplotlib import pyplot as plt\n",
        "import numpy as np\n",
        "import torch\n",
        "\n",
        "torch.set_printoptions(edgeitems=2)\n",
        "torch.manual_seed(123)"
      ],
      "execution_count": 43,
      "outputs": [
        {
          "output_type": "execute_result",
          "data": {
            "text/plain": [
              "<torch._C.Generator at 0x7f1720ced790>"
            ]
          },
          "metadata": {
            "tags": []
          },
          "execution_count": 43
        }
      ]
    },
    {
      "cell_type": "code",
      "metadata": {
        "id": "FoU7L-H0av6Q"
      },
      "source": [
        "class_names = ['airplane','automobile','bird','cat','deer',\n",
        "               'dog','frog','horse','ship','truck']"
      ],
      "execution_count": 44,
      "outputs": []
    },
    {
      "cell_type": "code",
      "metadata": {
        "colab": {
          "base_uri": "https://localhost:8080/"
        },
        "id": "1V0za8QWkRmE",
        "outputId": "ee1a5213-91dc-404b-9644-4ad9d63c2d1b"
      },
      "source": [
        "\n",
        "device = (torch.device('cuda') if torch.cuda.is_available()\n",
        "else torch.device('cpu'))\n",
        "print(f\"Training on device {device}.\")"
      ],
      "execution_count": 45,
      "outputs": [
        {
          "output_type": "stream",
          "text": [
            "Training on device cuda.\n"
          ],
          "name": "stdout"
        }
      ]
    },
    {
      "cell_type": "code",
      "metadata": {
        "id": "pvHNhzpQav6Q",
        "colab": {
          "base_uri": "https://localhost:8080/"
        },
        "outputId": "d795c047-6afc-4c73-f940-01bab4161a8d"
      },
      "source": [
        "from torchvision import datasets, transforms\n",
        "data_path = '../data-unversioned/p1ch7/'\n",
        "cifar10 = datasets.CIFAR10(\n",
        "    data_path, train=True, download=True,\n",
        "    transform=transforms.Compose([\n",
        "        transforms.ToTensor(),\n",
        "        transforms.Normalize((0.4915, 0.4823, 0.4468),\n",
        "                             (0.2470, 0.2435, 0.2616))\n",
        "    ]))"
      ],
      "execution_count": 46,
      "outputs": [
        {
          "output_type": "stream",
          "text": [
            "Files already downloaded and verified\n"
          ],
          "name": "stdout"
        }
      ]
    },
    {
      "cell_type": "code",
      "metadata": {
        "id": "YsxymtPUav6R"
      },
      "source": [
        "cifar10_val = datasets.CIFAR10(\n",
        "    data_path, train=False, download=False,\n",
        "    transform=transforms.Compose([\n",
        "        transforms.ToTensor(),\n",
        "        transforms.Normalize((0.4915, 0.4823, 0.4468),\n",
        "                             (0.2470, 0.2435, 0.2616))\n",
        "    ]))"
      ],
      "execution_count": 47,
      "outputs": []
    },
    {
      "cell_type": "code",
      "metadata": {
        "id": "T7cKe7mGav6R"
      },
      "source": [
        "label_map = {6: 0, 7: 1,8:2,9:3}\n",
        "class_names = ['frog','horse','ship','truck']\n",
        "cifar2 = [(img, label_map[label])\n",
        "          for img, label in cifar10 \n",
        "          if label in [6, 7,8,9]]\n",
        "cifar2_val = [(img, label_map[label])\n",
        "              for img, label in cifar10_val\n",
        "              if label in [6, 7,8,9]]"
      ],
      "execution_count": 48,
      "outputs": []
    },
    {
      "cell_type": "code",
      "metadata": {
        "id": "KaN0e5pKav6R"
      },
      "source": [
        "import torch.nn as nn\n",
        "\n",
        "n_out = 2\n",
        "\n",
        "model = nn.Sequential(\n",
        "            nn.Linear(\n",
        "                3072,  # <1>\n",
        "                512,   # <2>\n",
        "            ),\n",
        "            nn.Tanh(),\n",
        "            nn.Linear(\n",
        "                512,   # <2>\n",
        "                n_out, # <3>\n",
        "            )\n",
        "        )"
      ],
      "execution_count": 49,
      "outputs": []
    },
    {
      "cell_type": "code",
      "metadata": {
        "id": "fs6tZysQav6R"
      },
      "source": [
        "def softmax(x):\n",
        "    return torch.exp(x) / torch.exp(x).sum()"
      ],
      "execution_count": 50,
      "outputs": []
    },
    {
      "cell_type": "code",
      "metadata": {
        "id": "VQwXbGEvav6R",
        "colab": {
          "base_uri": "https://localhost:8080/"
        },
        "outputId": "bddc7c54-297b-45bd-c29c-7f3920bb9319"
      },
      "source": [
        "x = torch.tensor([1.0, 2.0, 3.0])\n",
        "\n",
        "softmax(x)"
      ],
      "execution_count": 51,
      "outputs": [
        {
          "output_type": "execute_result",
          "data": {
            "text/plain": [
              "tensor([0.0900, 0.2447, 0.6652])"
            ]
          },
          "metadata": {
            "tags": []
          },
          "execution_count": 51
        }
      ]
    },
    {
      "cell_type": "code",
      "metadata": {
        "id": "mkeMXkdlav6S",
        "colab": {
          "base_uri": "https://localhost:8080/"
        },
        "outputId": "9ef2dba9-1bc0-402e-c940-57ca5e6f3c64"
      },
      "source": [
        "softmax(x).sum()"
      ],
      "execution_count": 52,
      "outputs": [
        {
          "output_type": "execute_result",
          "data": {
            "text/plain": [
              "tensor(1.)"
            ]
          },
          "metadata": {
            "tags": []
          },
          "execution_count": 52
        }
      ]
    },
    {
      "cell_type": "code",
      "metadata": {
        "id": "9DOqnPhDav6S",
        "colab": {
          "base_uri": "https://localhost:8080/"
        },
        "outputId": "066615f3-ee96-4ab0-b104-4779f3f7e462"
      },
      "source": [
        "softmax = nn.Softmax(dim=1)\n",
        "\n",
        "x = torch.tensor([[1.0, 2.0, 3.0],\n",
        "                  [1.0, 2.0, 3.0]])\n",
        "\n",
        "softmax(x)"
      ],
      "execution_count": 53,
      "outputs": [
        {
          "output_type": "execute_result",
          "data": {
            "text/plain": [
              "tensor([[0.0900, 0.2447, 0.6652],\n",
              "        [0.0900, 0.2447, 0.6652]])"
            ]
          },
          "metadata": {
            "tags": []
          },
          "execution_count": 53
        }
      ]
    },
    {
      "cell_type": "code",
      "metadata": {
        "id": "Bc7DpPoMav6S"
      },
      "source": [
        "model = nn.Sequential(\n",
        "            nn.Linear(3072, 512),\n",
        "            nn.Tanh(),\n",
        "            nn.Linear(512, 2),\n",
        "            nn.Softmax(dim=1))"
      ],
      "execution_count": 54,
      "outputs": []
    },
    {
      "cell_type": "code",
      "metadata": {
        "id": "zRcnmcaoav6S",
        "colab": {
          "base_uri": "https://localhost:8080/",
          "height": 283
        },
        "outputId": "213980d0-5dde-4039-e585-11fa186222ac"
      },
      "source": [
        "img, _ = cifar2[0]\n",
        "\n",
        "plt.imshow(img.permute(1, 2, 0))\n",
        "plt.show()"
      ],
      "execution_count": 55,
      "outputs": [
        {
          "output_type": "stream",
          "text": [
            "Clipping input data to the valid range for imshow with RGB data ([0..1] for floats or [0..255] for integers).\n"
          ],
          "name": "stderr"
        },
        {
          "output_type": "display_data",
          "data": {
            "image/png": "[encoded data removed]",
            "text/plain": [
              "<Figure size 432x288 with 1 Axes>"
            ]
          },
          "metadata": {
            "tags": [],
            "needs_background": "light"
          }
        }
      ]
    },
    {
      "cell_type": "code",
      "metadata": {
        "id": "Xfs0h3owav6S"
      },
      "source": [
        "img_batch = img.view(-1).unsqueeze(0)"
      ],
      "execution_count": 56,
      "outputs": []
    },
    {
      "cell_type": "code",
      "metadata": {
        "id": "mkTmQOYQav6S",
        "colab": {
          "base_uri": "https://localhost:8080/"
        },
        "outputId": "8e4f193e-ead4-48ef-ae94-ccb67ce567e0"
      },
      "source": [
        "out = model(img_batch)\n",
        "out"
      ],
      "execution_count": 57,
      "outputs": [
        {
          "output_type": "execute_result",
          "data": {
            "text/plain": [
              "tensor([[0.4813, 0.5187]], grad_fn=<SoftmaxBackward>)"
            ]
          },
          "metadata": {
            "tags": []
          },
          "execution_count": 57
        }
      ]
    },
    {
      "cell_type": "code",
      "metadata": {
        "id": "IwtUx9oOav6T",
        "colab": {
          "base_uri": "https://localhost:8080/"
        },
        "outputId": "97973d98-cda6-4926-b79d-28fa3dd9686d"
      },
      "source": [
        "_, index = torch.max(out, dim=1)\n",
        "\n",
        "index"
      ],
      "execution_count": 58,
      "outputs": [
        {
          "output_type": "execute_result",
          "data": {
            "text/plain": [
              "tensor([1])"
            ]
          },
          "metadata": {
            "tags": []
          },
          "execution_count": 58
        }
      ]
    },
    {
      "cell_type": "code",
      "metadata": {
        "id": "EhPs813yav6T",
        "colab": {
          "base_uri": "https://localhost:8080/"
        },
        "outputId": "bc64fb66-bdcf-4e0c-c56c-e88a2b9cbc37"
      },
      "source": [
        "out = torch.tensor([\n",
        "    [0.6, 0.4],\n",
        "    [0.9, 0.1],\n",
        "    [0.3, 0.7],\n",
        "    [0.2, 0.8],\n",
        "])\n",
        "class_index = torch.tensor([0, 0, 1, 1]).unsqueeze(1)\n",
        "\n",
        "truth = torch.zeros((4,2))\n",
        "truth.scatter_(dim=1, index=class_index, value=1.0)\n",
        "truth"
      ],
      "execution_count": 59,
      "outputs": [
        {
          "output_type": "execute_result",
          "data": {
            "text/plain": [
              "tensor([[1., 0.],\n",
              "        [1., 0.],\n",
              "        [0., 1.],\n",
              "        [0., 1.]])"
            ]
          },
          "metadata": {
            "tags": []
          },
          "execution_count": 59
        }
      ]
    },
    {
      "cell_type": "code",
      "metadata": {
        "id": "G7XakMThav6T",
        "colab": {
          "base_uri": "https://localhost:8080/"
        },
        "outputId": "f5db237a-702a-4d01-c404-a1210ed6f520"
      },
      "source": [
        "def mse(out):\n",
        "    return ((out - truth) ** 2).sum(dim=1).mean()\n",
        "mse(out)"
      ],
      "execution_count": 60,
      "outputs": [
        {
          "output_type": "execute_result",
          "data": {
            "text/plain": [
              "tensor(0.1500)"
            ]
          },
          "metadata": {
            "tags": []
          },
          "execution_count": 60
        }
      ]
    },
    {
      "cell_type": "code",
      "metadata": {
        "id": "_TkJmNgpav6T",
        "colab": {
          "base_uri": "https://localhost:8080/"
        },
        "outputId": "5bec693a-65a0-402a-e777-216c5e5ff240"
      },
      "source": [
        "out.gather(dim=1, index=class_index)"
      ],
      "execution_count": 61,
      "outputs": [
        {
          "output_type": "execute_result",
          "data": {
            "text/plain": [
              "tensor([[0.6000],\n",
              "        [0.9000],\n",
              "        [0.7000],\n",
              "        [0.8000]])"
            ]
          },
          "metadata": {
            "tags": []
          },
          "execution_count": 61
        }
      ]
    },
    {
      "cell_type": "code",
      "metadata": {
        "id": "zzXqhl76av6T",
        "colab": {
          "base_uri": "https://localhost:8080/"
        },
        "outputId": "a52a44ee-9ec5-46f2-a6f6-b0a13f800add"
      },
      "source": [
        "def likelihood(out):\n",
        "    prod = 1.0\n",
        "    for x in out.gather(dim=1, index=class_index):\n",
        "        prod *= x\n",
        "    return prod\n",
        "\n",
        "likelihood(out)"
      ],
      "execution_count": 62,
      "outputs": [
        {
          "output_type": "execute_result",
          "data": {
            "text/plain": [
              "tensor([0.3024])"
            ]
          },
          "metadata": {
            "tags": []
          },
          "execution_count": 62
        }
      ]
    },
    {
      "cell_type": "code",
      "metadata": {
        "id": "ctOxaZjxav6T",
        "colab": {
          "base_uri": "https://localhost:8080/"
        },
        "outputId": "a6134147-5231-4e5f-9f55-59fe38084f30"
      },
      "source": [
        "def neg_log_likelihood(out):\n",
        "    return -likelihood(out).log()\n",
        "\n",
        "neg_log_likelihood(out)"
      ],
      "execution_count": 63,
      "outputs": [
        {
          "output_type": "execute_result",
          "data": {
            "text/plain": [
              "tensor([1.1960])"
            ]
          },
          "metadata": {
            "tags": []
          },
          "execution_count": 63
        }
      ]
    },
    {
      "cell_type": "code",
      "metadata": {
        "id": "BVuPSGauav6U",
        "colab": {
          "base_uri": "https://localhost:8080/"
        },
        "outputId": "d3d3d2cb-4a2d-4b12-c264-7612bfa07332"
      },
      "source": [
        "out0 = out.clone().detach()\n",
        "out0[0] = torch.tensor([0.9, 0.1]) # more right\n",
        "\n",
        "out2 = out.clone().detach()\n",
        "out2[0] = torch.tensor([0.4, 0.6]) # slightly wrong\n",
        "\n",
        "out3 = out.clone().detach()\n",
        "out3[0] = torch.tensor([0.1, 0.9]) # very wrong\n",
        "\n",
        "mse_comparison = torch.tensor([mse(o) for o in [out0, out, out2, out3]])\n",
        "mse_comparison"
      ],
      "execution_count": 64,
      "outputs": [
        {
          "output_type": "execute_result",
          "data": {
            "text/plain": [
              "tensor([0.0750, 0.1500, 0.2500, 0.4750])"
            ]
          },
          "metadata": {
            "tags": []
          },
          "execution_count": 64
        }
      ]
    },
    {
      "cell_type": "code",
      "metadata": {
        "id": "S6mQ-aPUav6U",
        "colab": {
          "base_uri": "https://localhost:8080/"
        },
        "outputId": "e841e534-159d-4d8b-dbdc-b6dc6206cd07"
      },
      "source": [
        "((mse_comparison / mse_comparison[1]) - 1) * 100"
      ],
      "execution_count": 65,
      "outputs": [
        {
          "output_type": "execute_result",
          "data": {
            "text/plain": [
              "tensor([-50.0000,   0.0000,  66.6667, 216.6667])"
            ]
          },
          "metadata": {
            "tags": []
          },
          "execution_count": 65
        }
      ]
    },
    {
      "cell_type": "code",
      "metadata": {
        "id": "ivFj8AOVav6U",
        "colab": {
          "base_uri": "https://localhost:8080/"
        },
        "outputId": "4f82d7d9-774b-4033-8141-6f6b3bf3409c"
      },
      "source": [
        "nll_comparison = torch.tensor([neg_log_likelihood(o) \n",
        "                               for o in [out0, out, out2, out3]])\n",
        "nll_comparison"
      ],
      "execution_count": 66,
      "outputs": [
        {
          "output_type": "execute_result",
          "data": {
            "text/plain": [
              "tensor([0.7905, 1.1960, 1.6015, 2.9878])"
            ]
          },
          "metadata": {
            "tags": []
          },
          "execution_count": 66
        }
      ]
    },
    {
      "cell_type": "code",
      "metadata": {
        "id": "IblAbFuwav6U",
        "colab": {
          "base_uri": "https://localhost:8080/"
        },
        "outputId": "02967ccf-e6d2-4e6d-b473-43207928eb98"
      },
      "source": [
        "((nll_comparison / nll_comparison[1]) - 1) * 100"
      ],
      "execution_count": 67,
      "outputs": [
        {
          "output_type": "execute_result",
          "data": {
            "text/plain": [
              "tensor([-33.9016,   0.0000,  33.9016, 149.8121])"
            ]
          },
          "metadata": {
            "tags": []
          },
          "execution_count": 67
        }
      ]
    },
    {
      "cell_type": "code",
      "metadata": {
        "id": "8-cas48Gav6U",
        "colab": {
          "base_uri": "https://localhost:8080/"
        },
        "outputId": "1a530475-3aeb-45c2-e63f-ff34c51aecb1"
      },
      "source": [
        "softmax = nn.Softmax(dim=1)\n",
        "\n",
        "log_softmax = nn.LogSoftmax(dim=1)\n",
        "\n",
        "x = torch.tensor([[0.0, 104.0]])\n",
        "\n",
        "softmax(x)"
      ],
      "execution_count": 68,
      "outputs": [
        {
          "output_type": "execute_result",
          "data": {
            "text/plain": [
              "tensor([[0., 1.]])"
            ]
          },
          "metadata": {
            "tags": []
          },
          "execution_count": 68
        }
      ]
    },
    {
      "cell_type": "code",
      "metadata": {
        "id": "yoAFIjPXav6U",
        "colab": {
          "base_uri": "https://localhost:8080/"
        },
        "outputId": "666c997f-db89-40b3-cf8d-4995affe111f"
      },
      "source": [
        "softmax = nn.Softmax(dim=1)\n",
        "\n",
        "log_softmax = nn.LogSoftmax(dim=1)\n",
        "\n",
        "x = torch.tensor([[0.0, 104.0]])\n",
        "\n",
        "softmax(x)"
      ],
      "execution_count": 69,
      "outputs": [
        {
          "output_type": "execute_result",
          "data": {
            "text/plain": [
              "tensor([[0., 1.]])"
            ]
          },
          "metadata": {
            "tags": []
          },
          "execution_count": 69
        }
      ]
    },
    {
      "cell_type": "code",
      "metadata": {
        "id": "6rRGwalnav6U",
        "colab": {
          "base_uri": "https://localhost:8080/"
        },
        "outputId": "13cb5399-1e62-4ee0-e7c9-3f517097a56e"
      },
      "source": [
        "torch.log(softmax(x))"
      ],
      "execution_count": 70,
      "outputs": [
        {
          "output_type": "execute_result",
          "data": {
            "text/plain": [
              "tensor([[-inf, 0.]])"
            ]
          },
          "metadata": {
            "tags": []
          },
          "execution_count": 70
        }
      ]
    },
    {
      "cell_type": "code",
      "metadata": {
        "id": "eBdWbejGav6V",
        "colab": {
          "base_uri": "https://localhost:8080/"
        },
        "outputId": "17c4753c-9999-4a33-c5cd-1076302edde7"
      },
      "source": [
        "log_softmax(x)"
      ],
      "execution_count": 71,
      "outputs": [
        {
          "output_type": "execute_result",
          "data": {
            "text/plain": [
              "tensor([[-104.,    0.]])"
            ]
          },
          "metadata": {
            "tags": []
          },
          "execution_count": 71
        }
      ]
    },
    {
      "cell_type": "code",
      "metadata": {
        "id": "Bn84fAN0av6V",
        "colab": {
          "base_uri": "https://localhost:8080/"
        },
        "outputId": "1f616570-0b72-4a43-8163-3e0a19cf2ba5"
      },
      "source": [
        "torch.exp(log_softmax(x))"
      ],
      "execution_count": 72,
      "outputs": [
        {
          "output_type": "execute_result",
          "data": {
            "text/plain": [
              "tensor([[0., 1.]])"
            ]
          },
          "metadata": {
            "tags": []
          },
          "execution_count": 72
        }
      ]
    },
    {
      "cell_type": "code",
      "metadata": {
        "id": "3QmmB8cMav6V"
      },
      "source": [
        "model = nn.Sequential(\n",
        "            nn.Linear(3072, 512),\n",
        "            nn.Tanh(),\n",
        "            nn.Linear(512, 2),\n",
        "            nn.LogSoftmax(dim=1))"
      ],
      "execution_count": 73,
      "outputs": []
    },
    {
      "cell_type": "code",
      "metadata": {
        "id": "qMNR_E2Qav6V"
      },
      "source": [
        "loss = nn.NLLLoss()"
      ],
      "execution_count": 74,
      "outputs": []
    },
    {
      "cell_type": "code",
      "metadata": {
        "id": "l1bifxp1av6V",
        "colab": {
          "base_uri": "https://localhost:8080/"
        },
        "outputId": "3c57cf1c-bec0-44f5-c5b5-8cccc9443968"
      },
      "source": [
        "img, label = cifar2[0]\n",
        "\n",
        "out = model(img.view(-1).unsqueeze(0))\n",
        "\n",
        "loss(out, torch.tensor([label]))"
      ],
      "execution_count": 75,
      "outputs": [
        {
          "output_type": "execute_result",
          "data": {
            "text/plain": [
              "tensor(0.8378, grad_fn=<NllLossBackward>)"
            ]
          },
          "metadata": {
            "tags": []
          },
          "execution_count": 75
        }
      ]
    },
    {
      "cell_type": "code",
      "metadata": {
        "id": "pMu4IBQBav6V"
      },
      "source": [
        ""
      ],
      "execution_count": 75,
      "outputs": []
    },
    {
      "cell_type": "code",
      "metadata": {
        "id": "JhZShUCGav6V"
      },
      "source": [
        "train_loader = torch.utils.data.DataLoader(cifar2, batch_size=64,\n",
        "                                           shuffle=True)"
      ],
      "execution_count": 76,
      "outputs": []
    },
    {
      "cell_type": "code",
      "metadata": {
        "id": "qtpPRJ-sav6W"
      },
      "source": [
        ""
      ],
      "execution_count": 76,
      "outputs": []
    },
    {
      "cell_type": "code",
      "metadata": {
        "id": "AAl8v2Clav6W",
        "colab": {
          "base_uri": "https://localhost:8080/"
        },
        "outputId": "00447d5d-9965-4e1a-a5e3-cb2def8aea61"
      },
      "source": [
        "import torch\n",
        "import torch.nn as nn\n",
        "import torch.optim as optim\n",
        "import time\n",
        "\n",
        "train_loader = torch.utils.data.DataLoader(cifar2, batch_size=64,\n",
        "                                           shuffle=True)\n",
        "\n",
        "model = nn.Sequential(\n",
        "            nn.Linear(3072, 512),\n",
        "            nn.Tanh(),\n",
        "            nn.Linear(512, 4),\n",
        "            nn.LogSoftmax(dim=1)).to(device=device)\n",
        "\n",
        "learning_rate = 1e-2\n",
        "\n",
        "optimizer = optim.SGD(model.parameters(), lr=learning_rate)\n",
        "\n",
        "loss_fn = nn.NLLLoss()\n",
        "\n",
        "n_epochs = 200\n",
        "start=time.time()\n",
        "for epoch in range(n_epochs):\n",
        "    for imgs, labels in train_loader:\n",
        "        imgs = imgs.to(device=device)\n",
        "        labels = labels.to(device=device)\n",
        "        outputs = model(imgs.view(imgs.shape[0], -1))\n",
        "        loss = loss_fn(outputs, labels)\n",
        "\n",
        "        optimizer.zero_grad()\n",
        "        loss.backward()\n",
        "        optimizer.step()\n",
        "\n",
        "    print(\"Epoch: %d, Loss: %f\" % (epoch, float(loss)))\n",
        "stop=time.time()\n",
        "duration= stop-start\n",
        "print(duration)"
      ],
      "execution_count": 77,
      "outputs": [
        {
          "output_type": "stream",
          "text": [
            "Epoch: 0, Loss: 0.709550\n",
            "Epoch: 1, Loss: 0.619307\n",
            "Epoch: 2, Loss: 1.054392\n",
            "Epoch: 3, Loss: 0.710791\n",
            "Epoch: 4, Loss: 0.594423\n",
            "Epoch: 5, Loss: 0.531334\n",
            "Epoch: 6, Loss: 0.473141\n",
            "Epoch: 7, Loss: 0.596265\n",
            "Epoch: 8, Loss: 0.741933\n",
            "Epoch: 9, Loss: 0.386836\n",
            "Epoch: 10, Loss: 0.624176\n",
            "Epoch: 11, Loss: 0.413143\n",
            "Epoch: 12, Loss: 0.465522\n",
            "Epoch: 13, Loss: 0.518968\n",
            "Epoch: 14, Loss: 0.347353\n",
            "Epoch: 15, Loss: 0.521088\n",
            "Epoch: 16, Loss: 0.405736\n",
            "Epoch: 17, Loss: 0.237977\n",
            "Epoch: 18, Loss: 0.456190\n",
            "Epoch: 19, Loss: 0.254552\n",
            "Epoch: 20, Loss: 0.512944\n",
            "Epoch: 21, Loss: 0.229965\n",
            "Epoch: 22, Loss: 0.293783\n",
            "Epoch: 23, Loss: 0.346775\n",
            "Epoch: 24, Loss: 0.264755\n",
            "Epoch: 25, Loss: 0.247713\n",
            "Epoch: 26, Loss: 0.150990\n",
            "Epoch: 27, Loss: 0.111717\n",
            "Epoch: 28, Loss: 0.209370\n",
            "Epoch: 29, Loss: 0.215649\n",
            "Epoch: 30, Loss: 0.218999\n",
            "Epoch: 31, Loss: 0.092625\n",
            "Epoch: 32, Loss: 0.133992\n",
            "Epoch: 33, Loss: 0.150693\n",
            "Epoch: 34, Loss: 0.141198\n",
            "Epoch: 35, Loss: 0.178996\n",
            "Epoch: 36, Loss: 0.202224\n",
            "Epoch: 37, Loss: 0.133415\n",
            "Epoch: 38, Loss: 0.144692\n",
            "Epoch: 39, Loss: 0.104609\n",
            "Epoch: 40, Loss: 0.100985\n",
            "Epoch: 41, Loss: 0.077254\n",
            "Epoch: 42, Loss: 0.073344\n",
            "Epoch: 43, Loss: 0.059027\n",
            "Epoch: 44, Loss: 0.049943\n",
            "Epoch: 45, Loss: 0.040082\n",
            "Epoch: 46, Loss: 0.084346\n",
            "Epoch: 47, Loss: 0.052942\n",
            "Epoch: 48, Loss: 0.057660\n",
            "Epoch: 49, Loss: 0.229930\n",
            "Epoch: 50, Loss: 0.094425\n",
            "Epoch: 51, Loss: 0.032227\n",
            "Epoch: 52, Loss: 0.043244\n",
            "Epoch: 53, Loss: 0.074454\n",
            "Epoch: 54, Loss: 0.034664\n",
            "Epoch: 55, Loss: 0.029166\n",
            "Epoch: 56, Loss: 0.036464\n",
            "Epoch: 57, Loss: 0.067764\n",
            "Epoch: 58, Loss: 0.040311\n",
            "Epoch: 59, Loss: 0.044776\n",
            "Epoch: 60, Loss: 0.057284\n",
            "Epoch: 61, Loss: 0.067487\n",
            "Epoch: 62, Loss: 0.035396\n",
            "Epoch: 63, Loss: 0.029182\n",
            "Epoch: 64, Loss: 0.024010\n",
            "Epoch: 65, Loss: 0.031110\n",
            "Epoch: 66, Loss: 0.019231\n",
            "Epoch: 67, Loss: 0.041497\n",
            "Epoch: 68, Loss: 0.026657\n",
            "Epoch: 69, Loss: 0.032097\n",
            "Epoch: 70, Loss: 0.022802\n",
            "Epoch: 71, Loss: 0.024925\n",
            "Epoch: 72, Loss: 0.044309\n",
            "Epoch: 73, Loss: 0.015214\n",
            "Epoch: 74, Loss: 0.028832\n",
            "Epoch: 75, Loss: 0.020800\n",
            "Epoch: 76, Loss: 0.049375\n",
            "Epoch: 77, Loss: 0.012326\n",
            "Epoch: 78, Loss: 0.034933\n",
            "Epoch: 79, Loss: 0.017198\n",
            "Epoch: 80, Loss: 0.020426\n",
            "Epoch: 81, Loss: 0.011507\n",
            "Epoch: 82, Loss: 0.028264\n",
            "Epoch: 83, Loss: 0.013732\n",
            "Epoch: 84, Loss: 0.027373\n",
            "Epoch: 85, Loss: 0.024396\n",
            "Epoch: 86, Loss: 0.012922\n",
            "Epoch: 87, Loss: 0.013622\n",
            "Epoch: 88, Loss: 0.016281\n",
            "Epoch: 89, Loss: 0.014455\n",
            "Epoch: 90, Loss: 0.006525\n",
            "Epoch: 91, Loss: 0.013736\n",
            "Epoch: 92, Loss: 0.028667\n",
            "Epoch: 93, Loss: 0.009951\n",
            "Epoch: 94, Loss: 0.016107\n",
            "Epoch: 95, Loss: 0.015576\n",
            "Epoch: 96, Loss: 0.016346\n",
            "Epoch: 97, Loss: 0.015579\n",
            "Epoch: 98, Loss: 0.013943\n",
            "Epoch: 99, Loss: 0.009965\n",
            "Epoch: 100, Loss: 0.007755\n",
            "Epoch: 101, Loss: 0.010565\n",
            "Epoch: 102, Loss: 0.012208\n",
            "Epoch: 103, Loss: 0.012747\n",
            "Epoch: 104, Loss: 0.007818\n",
            "Epoch: 105, Loss: 0.008867\n",
            "Epoch: 106, Loss: 0.012475\n",
            "Epoch: 107, Loss: 0.012214\n",
            "Epoch: 108, Loss: 0.018660\n",
            "Epoch: 109, Loss: 0.011288\n",
            "Epoch: 110, Loss: 0.007898\n",
            "Epoch: 111, Loss: 0.007036\n",
            "Epoch: 112, Loss: 0.016638\n",
            "Epoch: 113, Loss: 0.005393\n",
            "Epoch: 114, Loss: 0.006941\n",
            "Epoch: 115, Loss: 0.011989\n",
            "Epoch: 116, Loss: 0.009212\n",
            "Epoch: 117, Loss: 0.010463\n",
            "Epoch: 118, Loss: 0.005809\n",
            "Epoch: 119, Loss: 0.012158\n",
            "Epoch: 120, Loss: 0.006897\n",
            "Epoch: 121, Loss: 0.008234\n",
            "Epoch: 122, Loss: 0.006677\n",
            "Epoch: 123, Loss: 0.012033\n",
            "Epoch: 124, Loss: 0.010284\n",
            "Epoch: 125, Loss: 0.007052\n",
            "Epoch: 126, Loss: 0.006283\n",
            "Epoch: 127, Loss: 0.009631\n",
            "Epoch: 128, Loss: 0.009207\n",
            "Epoch: 129, Loss: 0.005579\n",
            "Epoch: 130, Loss: 0.004827\n",
            "Epoch: 131, Loss: 0.005322\n",
            "Epoch: 132, Loss: 0.006578\n",
            "Epoch: 133, Loss: 0.007776\n",
            "Epoch: 134, Loss: 0.012663\n",
            "Epoch: 135, Loss: 0.011044\n",
            "Epoch: 136, Loss: 0.004683\n",
            "Epoch: 137, Loss: 0.004524\n",
            "Epoch: 138, Loss: 0.011658\n",
            "Epoch: 139, Loss: 0.006833\n",
            "Epoch: 140, Loss: 0.007669\n",
            "Epoch: 141, Loss: 0.007995\n",
            "Epoch: 142, Loss: 0.005243\n",
            "Epoch: 143, Loss: 0.008800\n",
            "Epoch: 144, Loss: 0.009019\n",
            "Epoch: 145, Loss: 0.006848\n",
            "Epoch: 146, Loss: 0.005510\n",
            "Epoch: 147, Loss: 0.005693\n",
            "Epoch: 148, Loss: 0.004989\n",
            "Epoch: 149, Loss: 0.004222\n",
            "Epoch: 150, Loss: 0.007205\n",
            "Epoch: 151, Loss: 0.004535\n",
            "Epoch: 152, Loss: 0.008216\n",
            "Epoch: 153, Loss: 0.004693\n",
            "Epoch: 154, Loss: 0.006675\n",
            "Epoch: 155, Loss: 0.005852\n",
            "Epoch: 156, Loss: 0.004713\n",
            "Epoch: 157, Loss: 0.004037\n",
            "Epoch: 158, Loss: 0.006892\n",
            "Epoch: 159, Loss: 0.006406\n",
            "Epoch: 160, Loss: 0.005940\n",
            "Epoch: 161, Loss: 0.005749\n",
            "Epoch: 162, Loss: 0.006468\n",
            "Epoch: 163, Loss: 0.005477\n",
            "Epoch: 164, Loss: 0.004499\n",
            "Epoch: 165, Loss: 0.004481\n",
            "Epoch: 166, Loss: 0.003427\n",
            "Epoch: 167, Loss: 0.005157\n",
            "Epoch: 168, Loss: 0.007644\n",
            "Epoch: 169, Loss: 0.005238\n",
            "Epoch: 170, Loss: 0.007035\n",
            "Epoch: 171, Loss: 0.008763\n",
            "Epoch: 172, Loss: 0.005253\n",
            "Epoch: 173, Loss: 0.007041\n",
            "Epoch: 174, Loss: 0.004022\n",
            "Epoch: 175, Loss: 0.006643\n",
            "Epoch: 176, Loss: 0.003336\n",
            "Epoch: 177, Loss: 0.005033\n",
            "Epoch: 178, Loss: 0.006900\n",
            "Epoch: 179, Loss: 0.006538\n",
            "Epoch: 180, Loss: 0.003982\n",
            "Epoch: 181, Loss: 0.003552\n",
            "Epoch: 182, Loss: 0.002221\n",
            "Epoch: 183, Loss: 0.002738\n",
            "Epoch: 184, Loss: 0.003413\n",
            "Epoch: 185, Loss: 0.003790\n",
            "Epoch: 186, Loss: 0.004922\n",
            "Epoch: 187, Loss: 0.004666\n",
            "Epoch: 188, Loss: 0.004978\n",
            "Epoch: 189, Loss: 0.005994\n",
            "Epoch: 190, Loss: 0.004729\n",
            "Epoch: 191, Loss: 0.002970\n",
            "Epoch: 192, Loss: 0.003925\n",
            "Epoch: 193, Loss: 0.004102\n",
            "Epoch: 194, Loss: 0.003200\n",
            "Epoch: 195, Loss: 0.003824\n",
            "Epoch: 196, Loss: 0.004151\n",
            "Epoch: 197, Loss: 0.003420\n",
            "Epoch: 198, Loss: 0.004542\n",
            "Epoch: 199, Loss: 0.003332\n",
            "89.65457510948181\n"
          ],
          "name": "stdout"
        }
      ]
    },
    {
      "cell_type": "code",
      "metadata": {
        "id": "PLotH-Tgav6W",
        "colab": {
          "base_uri": "https://localhost:8080/"
        },
        "outputId": "d2487089-bf0d-479c-8630-af986e456ee9"
      },
      "source": [
        "train_loader = torch.utils.data.DataLoader(cifar2, batch_size=64,\n",
        "                                           shuffle=False)\n",
        "\n",
        "correct = 0\n",
        "total = 0\n",
        "\n",
        "with torch.no_grad():\n",
        "    for imgs, labels in train_loader:\n",
        "        imgs = imgs.to(device=device)\n",
        "        labels = labels.to(device=device)\n",
        "        outputs = model(imgs.view(imgs.shape[0], -1))\n",
        "        _, predicted = torch.max(outputs, dim=1)\n",
        "        total += labels.shape[0]\n",
        "        correct += int((predicted == labels).sum())\n",
        "        \n",
        "print(\"Accuracy: %f\" % (correct / total))"
      ],
      "execution_count": 78,
      "outputs": [
        {
          "output_type": "stream",
          "text": [
            "Accuracy: 1.000000\n"
          ],
          "name": "stdout"
        }
      ]
    },
    {
      "cell_type": "code",
      "metadata": {
        "id": "OyARcG9Yav6W",
        "colab": {
          "base_uri": "https://localhost:8080/"
        },
        "outputId": "e3434e81-9ef7-43e9-9776-3b5f106b95ee"
      },
      "source": [
        "val_loader = torch.utils.data.DataLoader(cifar2_val, batch_size=64,\n",
        "                                         shuffle=False)\n",
        "\n",
        "correct = 0\n",
        "total = 0\n",
        "\n",
        "with torch.no_grad():\n",
        "    for imgs, labels in val_loader:\n",
        "        imgs = imgs.to(device=device)\n",
        "        labels = labels.to(device=device)\n",
        "        outputs = model(imgs.view(imgs.shape[0], -1))\n",
        "        _, predicted = torch.max(outputs, dim=1)\n",
        "        total += labels.shape[0]\n",
        "        correct += int((predicted == labels).sum())\n",
        "        \n",
        "print(\"Accuracy: %f\" % (correct / total))"
      ],
      "execution_count": 79,
      "outputs": [
        {
          "output_type": "stream",
          "text": [
            "Accuracy: 0.777750\n"
          ],
          "name": "stdout"
        }
      ]
    },
    {
      "cell_type": "code",
      "metadata": {
        "id": "syLuTiRjav6X"
      },
      "source": [
        "model = nn.Sequential(\n",
        "            nn.Linear(3072, 1024),\n",
        "            nn.Tanh(),\n",
        "            nn.Linear(1024, 512),\n",
        "            nn.Tanh(),\n",
        "            nn.Linear(512, 128),\n",
        "            nn.Tanh(),\n",
        "            nn.Linear(128, 4),\n",
        "            nn.LogSoftmax(dim=1))"
      ],
      "execution_count": 80,
      "outputs": []
    },
    {
      "cell_type": "code",
      "metadata": {
        "id": "D9hWEL-6av6X"
      },
      "source": [
        "model = nn.Sequential(\n",
        "            nn.Linear(3072, 1024),\n",
        "            nn.Tanh(),\n",
        "            nn.Linear(1024, 512),\n",
        "            nn.Tanh(),\n",
        "            nn.Linear(512, 128),\n",
        "            nn.Tanh(),\n",
        "            nn.Linear(128, 4))\n",
        "\n",
        "loss_fn = nn.CrossEntropyLoss()"
      ],
      "execution_count": 81,
      "outputs": []
    },
    {
      "cell_type": "code",
      "metadata": {
        "id": "ZDBitoU0av6X",
        "colab": {
          "base_uri": "https://localhost:8080/"
        },
        "outputId": "f0df733e-e3a9-4e5f-ab2c-b937070de681"
      },
      "source": [
        "import torch\n",
        "import torch.nn as nn\n",
        "import torch.optim as optim\n",
        "\n",
        "train_loader = torch.utils.data.DataLoader(cifar2, batch_size=64,\n",
        "                                           shuffle=True)\n",
        "\n",
        "model = nn.Sequential(\n",
        "            nn.Linear(3072, 1024),\n",
        "            nn.Tanh(),\n",
        "            nn.Linear(1024, 512),\n",
        "            nn.Tanh(),\n",
        "            nn.Linear(512, 128),\n",
        "            nn.Tanh(),\n",
        "            nn.Linear(128, 4)).to(device=device)\n",
        "\n",
        "learning_rate = 1e-2\n",
        "\n",
        "optimizer = optim.SGD(model.parameters(), lr=learning_rate)\n",
        "\n",
        "loss_fn = nn.CrossEntropyLoss()\n",
        "\n",
        "n_epochs = 200\n",
        "start=time.time()\n",
        "for epoch in range(n_epochs):\n",
        "    for imgs, labels in train_loader:\n",
        "        imgs = imgs.to(device=device)\n",
        "        labels = labels.to(device=device)\n",
        "        outputs = model(imgs.view(imgs.shape[0], -1))\n",
        "        loss = loss_fn(outputs, labels)\n",
        "\n",
        "        optimizer.zero_grad()\n",
        "        loss.backward()\n",
        "        optimizer.step()\n",
        "\n",
        "    print(\"Epoch: %d, Loss: %f\" % (epoch, float(loss)))\n",
        "stop=time.time()\n",
        "duration= stop-start\n",
        "print(duration)"
      ],
      "execution_count": 82,
      "outputs": [
        {
          "output_type": "stream",
          "text": [
            "Epoch: 0, Loss: 0.742844\n",
            "Epoch: 1, Loss: 0.544447\n",
            "Epoch: 2, Loss: 0.567063\n",
            "Epoch: 3, Loss: 0.596821\n",
            "Epoch: 4, Loss: 0.561172\n",
            "Epoch: 5, Loss: 0.679898\n",
            "Epoch: 6, Loss: 0.563178\n",
            "Epoch: 7, Loss: 0.565844\n",
            "Epoch: 8, Loss: 0.758182\n",
            "Epoch: 9, Loss: 0.928950\n",
            "Epoch: 10, Loss: 0.569579\n",
            "Epoch: 11, Loss: 1.362335\n",
            "Epoch: 12, Loss: 0.642160\n",
            "Epoch: 13, Loss: 0.578659\n",
            "Epoch: 14, Loss: 0.484896\n",
            "Epoch: 15, Loss: 0.361914\n",
            "Epoch: 16, Loss: 0.343126\n",
            "Epoch: 17, Loss: 0.404867\n",
            "Epoch: 18, Loss: 0.245125\n",
            "Epoch: 19, Loss: 0.465430\n",
            "Epoch: 20, Loss: 0.150145\n",
            "Epoch: 21, Loss: 0.417737\n",
            "Epoch: 22, Loss: 0.287738\n",
            "Epoch: 23, Loss: 0.246963\n",
            "Epoch: 24, Loss: 0.230781\n",
            "Epoch: 25, Loss: 0.141826\n",
            "Epoch: 26, Loss: 0.157408\n",
            "Epoch: 27, Loss: 0.383989\n",
            "Epoch: 28, Loss: 0.146882\n",
            "Epoch: 29, Loss: 0.077726\n",
            "Epoch: 30, Loss: 0.048638\n",
            "Epoch: 31, Loss: 0.028776\n",
            "Epoch: 32, Loss: 0.736177\n",
            "Epoch: 33, Loss: 0.035098\n",
            "Epoch: 34, Loss: 0.005579\n",
            "Epoch: 35, Loss: 0.016293\n",
            "Epoch: 36, Loss: 0.017431\n",
            "Epoch: 37, Loss: 0.016961\n",
            "Epoch: 38, Loss: 0.011184\n",
            "Epoch: 39, Loss: 0.007714\n",
            "Epoch: 40, Loss: 0.014618\n",
            "Epoch: 41, Loss: 0.004475\n",
            "Epoch: 42, Loss: 0.011283\n",
            "Epoch: 43, Loss: 0.005297\n",
            "Epoch: 44, Loss: 0.003824\n",
            "Epoch: 45, Loss: 0.003729\n",
            "Epoch: 46, Loss: 0.002130\n",
            "Epoch: 47, Loss: 0.001270\n",
            "Epoch: 48, Loss: 0.003491\n",
            "Epoch: 49, Loss: 0.002618\n",
            "Epoch: 50, Loss: 0.003111\n",
            "Epoch: 51, Loss: 0.009479\n",
            "Epoch: 52, Loss: 0.003701\n",
            "Epoch: 53, Loss: 0.003865\n",
            "Epoch: 54, Loss: 0.003430\n",
            "Epoch: 55, Loss: 0.002515\n",
            "Epoch: 56, Loss: 0.003834\n",
            "Epoch: 57, Loss: 0.001969\n",
            "Epoch: 58, Loss: 0.003300\n",
            "Epoch: 59, Loss: 0.001980\n",
            "Epoch: 60, Loss: 0.001205\n",
            "Epoch: 61, Loss: 0.002316\n",
            "Epoch: 62, Loss: 0.001574\n",
            "Epoch: 63, Loss: 0.001780\n",
            "Epoch: 64, Loss: 0.001129\n",
            "Epoch: 65, Loss: 0.002618\n",
            "Epoch: 66, Loss: 0.000762\n",
            "Epoch: 67, Loss: 0.000614\n",
            "Epoch: 68, Loss: 0.001267\n",
            "Epoch: 69, Loss: 0.001176\n",
            "Epoch: 70, Loss: 0.002622\n",
            "Epoch: 71, Loss: 0.000942\n",
            "Epoch: 72, Loss: 0.001083\n",
            "Epoch: 73, Loss: 0.000794\n",
            "Epoch: 74, Loss: 0.001021\n",
            "Epoch: 75, Loss: 0.001397\n",
            "Epoch: 76, Loss: 0.001139\n",
            "Epoch: 77, Loss: 0.000798\n",
            "Epoch: 78, Loss: 0.000867\n",
            "Epoch: 79, Loss: 0.000662\n",
            "Epoch: 80, Loss: 0.001071\n",
            "Epoch: 81, Loss: 0.000697\n",
            "Epoch: 82, Loss: 0.000441\n",
            "Epoch: 83, Loss: 0.001095\n",
            "Epoch: 84, Loss: 0.001464\n",
            "Epoch: 85, Loss: 0.000641\n",
            "Epoch: 86, Loss: 0.000928\n",
            "Epoch: 87, Loss: 0.001084\n",
            "Epoch: 88, Loss: 0.001330\n",
            "Epoch: 89, Loss: 0.001485\n",
            "Epoch: 90, Loss: 0.000753\n",
            "Epoch: 91, Loss: 0.000764\n",
            "Epoch: 92, Loss: 0.000736\n",
            "Epoch: 93, Loss: 0.000912\n",
            "Epoch: 94, Loss: 0.000423\n",
            "Epoch: 95, Loss: 0.000780\n",
            "Epoch: 96, Loss: 0.000983\n",
            "Epoch: 97, Loss: 0.000891\n",
            "Epoch: 98, Loss: 0.000426\n",
            "Epoch: 99, Loss: 0.000739\n",
            "Epoch: 100, Loss: 0.001034\n",
            "Epoch: 101, Loss: 0.000967\n",
            "Epoch: 102, Loss: 0.000674\n",
            "Epoch: 103, Loss: 0.000390\n",
            "Epoch: 104, Loss: 0.000723\n",
            "Epoch: 105, Loss: 0.000582\n",
            "Epoch: 106, Loss: 0.000712\n",
            "Epoch: 107, Loss: 0.000601\n",
            "Epoch: 108, Loss: 0.000252\n",
            "Epoch: 109, Loss: 0.000784\n",
            "Epoch: 110, Loss: 0.000207\n",
            "Epoch: 111, Loss: 0.000355\n",
            "Epoch: 112, Loss: 0.000748\n",
            "Epoch: 113, Loss: 0.000566\n",
            "Epoch: 114, Loss: 0.000739\n",
            "Epoch: 115, Loss: 0.000605\n",
            "Epoch: 116, Loss: 0.000582\n",
            "Epoch: 117, Loss: 0.000392\n",
            "Epoch: 118, Loss: 0.000593\n",
            "Epoch: 119, Loss: 0.000540\n",
            "Epoch: 120, Loss: 0.000566\n",
            "Epoch: 121, Loss: 0.000724\n",
            "Epoch: 122, Loss: 0.000348\n",
            "Epoch: 123, Loss: 0.000382\n",
            "Epoch: 124, Loss: 0.000263\n",
            "Epoch: 125, Loss: 0.000420\n",
            "Epoch: 126, Loss: 0.000742\n",
            "Epoch: 127, Loss: 0.000346\n",
            "Epoch: 128, Loss: 0.000699\n",
            "Epoch: 129, Loss: 0.000265\n",
            "Epoch: 130, Loss: 0.000551\n",
            "Epoch: 131, Loss: 0.000249\n",
            "Epoch: 132, Loss: 0.000320\n",
            "Epoch: 133, Loss: 0.000222\n",
            "Epoch: 134, Loss: 0.000374\n",
            "Epoch: 135, Loss: 0.000394\n",
            "Epoch: 136, Loss: 0.000525\n",
            "Epoch: 137, Loss: 0.000530\n",
            "Epoch: 138, Loss: 0.000534\n",
            "Epoch: 139, Loss: 0.000548\n",
            "Epoch: 140, Loss: 0.000290\n",
            "Epoch: 141, Loss: 0.000330\n",
            "Epoch: 142, Loss: 0.000376\n",
            "Epoch: 143, Loss: 0.000460\n",
            "Epoch: 144, Loss: 0.000359\n",
            "Epoch: 145, Loss: 0.000635\n",
            "Epoch: 146, Loss: 0.000365\n",
            "Epoch: 147, Loss: 0.000384\n",
            "Epoch: 148, Loss: 0.000130\n",
            "Epoch: 149, Loss: 0.000241\n",
            "Epoch: 150, Loss: 0.000299\n",
            "Epoch: 151, Loss: 0.000237\n",
            "Epoch: 152, Loss: 0.000340\n",
            "Epoch: 153, Loss: 0.000321\n",
            "Epoch: 154, Loss: 0.000379\n",
            "Epoch: 155, Loss: 0.000336\n",
            "Epoch: 156, Loss: 0.000376\n",
            "Epoch: 157, Loss: 0.000289\n",
            "Epoch: 158, Loss: 0.000376\n",
            "Epoch: 159, Loss: 0.000406\n",
            "Epoch: 160, Loss: 0.000250\n",
            "Epoch: 161, Loss: 0.000378\n",
            "Epoch: 162, Loss: 0.000179\n",
            "Epoch: 163, Loss: 0.000262\n",
            "Epoch: 164, Loss: 0.000241\n",
            "Epoch: 165, Loss: 0.000288\n",
            "Epoch: 166, Loss: 0.000287\n",
            "Epoch: 167, Loss: 0.000171\n",
            "Epoch: 168, Loss: 0.000263\n",
            "Epoch: 169, Loss: 0.000256\n",
            "Epoch: 170, Loss: 0.000213\n",
            "Epoch: 171, Loss: 0.000460\n",
            "Epoch: 172, Loss: 0.000289\n",
            "Epoch: 173, Loss: 0.000164\n",
            "Epoch: 174, Loss: 0.000377\n",
            "Epoch: 175, Loss: 0.000225\n",
            "Epoch: 176, Loss: 0.000421\n",
            "Epoch: 177, Loss: 0.000440\n",
            "Epoch: 178, Loss: 0.000269\n",
            "Epoch: 179, Loss: 0.000187\n",
            "Epoch: 180, Loss: 0.000243\n",
            "Epoch: 181, Loss: 0.000203\n",
            "Epoch: 182, Loss: 0.000252\n",
            "Epoch: 183, Loss: 0.000215\n",
            "Epoch: 184, Loss: 0.000144\n",
            "Epoch: 185, Loss: 0.000294\n",
            "Epoch: 186, Loss: 0.000206\n",
            "Epoch: 187, Loss: 0.000498\n",
            "Epoch: 188, Loss: 0.000142\n",
            "Epoch: 189, Loss: 0.000195\n",
            "Epoch: 190, Loss: 0.000316\n",
            "Epoch: 191, Loss: 0.000235\n",
            "Epoch: 192, Loss: 0.000360\n",
            "Epoch: 193, Loss: 0.000316\n",
            "Epoch: 194, Loss: 0.000202\n",
            "Epoch: 195, Loss: 0.000178\n",
            "Epoch: 196, Loss: 0.000302\n",
            "Epoch: 197, Loss: 0.000173\n",
            "Epoch: 198, Loss: 0.000234\n",
            "Epoch: 199, Loss: 0.000168\n",
            "109.32976865768433\n"
          ],
          "name": "stdout"
        }
      ]
    },
    {
      "cell_type": "code",
      "metadata": {
        "id": "3FBtsVSMav6X",
        "colab": {
          "base_uri": "https://localhost:8080/"
        },
        "outputId": "5c891b83-2ba8-4d78-9105-ff6ef55a52ae"
      },
      "source": [
        "train_loader = torch.utils.data.DataLoader(cifar2, batch_size=64,\n",
        "                                           shuffle=False)\n",
        "\n",
        "correct = 0\n",
        "total = 0\n",
        "\n",
        "with torch.no_grad():\n",
        "    for imgs, labels in train_loader:\n",
        "        imgs = imgs.to(device=device)\n",
        "        labels = labels.to(device=device)\n",
        "        outputs = model(imgs.view(imgs.shape[0], -1))\n",
        "        _, predicted = torch.max(outputs, dim=1)\n",
        "        total += labels.shape[0]\n",
        "        correct += int((predicted == labels).sum())\n",
        "        \n",
        "print(\"Accuracy: %f\" % (correct / total))"
      ],
      "execution_count": 83,
      "outputs": [
        {
          "output_type": "stream",
          "text": [
            "Accuracy: 1.000000\n"
          ],
          "name": "stdout"
        }
      ]
    },
    {
      "cell_type": "code",
      "metadata": {
        "id": "32F0b1vdav6X",
        "colab": {
          "base_uri": "https://localhost:8080/"
        },
        "outputId": "dd08d924-e700-4de5-b2cb-a36ccfc53f5d"
      },
      "source": [
        "val_loader = torch.utils.data.DataLoader(cifar2_val, batch_size=64,\n",
        "                                         shuffle=False)\n",
        "\n",
        "correct = 0\n",
        "total = 0\n",
        "\n",
        "with torch.no_grad():\n",
        "    for imgs, labels in val_loader:\n",
        "        imgs = imgs.to(device=device)\n",
        "        labels = labels.to(device=device)\n",
        "        outputs = model(imgs.view(imgs.shape[0], -1))\n",
        "        _, predicted = torch.max(outputs, dim=1)\n",
        "        total += labels.shape[0]\n",
        "        correct += int((predicted == labels).sum())\n",
        "        \n",
        "print(\"Accuracy: %f\" % (correct / total))"
      ],
      "execution_count": 84,
      "outputs": [
        {
          "output_type": "stream",
          "text": [
            "Accuracy: 0.760000\n"
          ],
          "name": "stdout"
        }
      ]
    },
    {
      "cell_type": "code",
      "metadata": {
        "id": "D-o3aIt1av6X",
        "colab": {
          "base_uri": "https://localhost:8080/"
        },
        "outputId": "585873e1-7452-43a9-a9e8-f3b83e302ca2"
      },
      "source": [
        "sum([p.numel() for p in model.parameters()])"
      ],
      "execution_count": 85,
      "outputs": [
        {
          "output_type": "execute_result",
          "data": {
            "text/plain": [
              "3737732"
            ]
          },
          "metadata": {
            "tags": []
          },
          "execution_count": 85
        }
      ]
    },
    {
      "cell_type": "code",
      "metadata": {
        "id": "yWuNIH80av6X",
        "colab": {
          "base_uri": "https://localhost:8080/"
        },
        "outputId": "14ab742e-8563-4b5f-8eb3-02c822fecf55"
      },
      "source": [
        "sum([p.numel() for p in model.parameters() if p.requires_grad == True])"
      ],
      "execution_count": 86,
      "outputs": [
        {
          "output_type": "execute_result",
          "data": {
            "text/plain": [
              "3737732"
            ]
          },
          "metadata": {
            "tags": []
          },
          "execution_count": 86
        }
      ]
    },
    {
      "cell_type": "code",
      "metadata": {
        "id": "f_dUTPr6av6Y",
        "colab": {
          "base_uri": "https://localhost:8080/"
        },
        "outputId": "ebf9931b-1bc7-4e31-e222-cf2058594394"
      },
      "source": [
        "first_model = nn.Sequential(\n",
        "                nn.Linear(3072, 512),\n",
        "                nn.Tanh(),\n",
        "                nn.Linear(512, 4),\n",
        "                nn.LogSoftmax(dim=1))\n",
        "\n",
        "sum([p.numel() for p in first_model.parameters()])"
      ],
      "execution_count": 87,
      "outputs": [
        {
          "output_type": "execute_result",
          "data": {
            "text/plain": [
              "1575428"
            ]
          },
          "metadata": {
            "tags": []
          },
          "execution_count": 87
        }
      ]
    },
    {
      "cell_type": "code",
      "metadata": {
        "id": "v2wQdgTvav6Y",
        "colab": {
          "base_uri": "https://localhost:8080/"
        },
        "outputId": "a13f5421-bb66-4d2e-a082-b5bcee1d2c63"
      },
      "source": [
        "sum([p.numel() for p in nn.Linear(3072, 512).parameters()])"
      ],
      "execution_count": 88,
      "outputs": [
        {
          "output_type": "execute_result",
          "data": {
            "text/plain": [
              "1573376"
            ]
          },
          "metadata": {
            "tags": []
          },
          "execution_count": 88
        }
      ]
    },
    {
      "cell_type": "code",
      "metadata": {
        "id": "O0G_OV97av6Y",
        "colab": {
          "base_uri": "https://localhost:8080/"
        },
        "outputId": "ab7d69a3-e940-4940-bb84-1c3ce80be0d8"
      },
      "source": [
        "sum([p.numel() for p in nn.Linear(3072, 1024).parameters()])"
      ],
      "execution_count": 89,
      "outputs": [
        {
          "output_type": "execute_result",
          "data": {
            "text/plain": [
              "3146752"
            ]
          },
          "metadata": {
            "tags": []
          },
          "execution_count": 89
        }
      ]
    },
    {
      "cell_type": "code",
      "metadata": {
        "id": "SFVaX10Iav6Y",
        "colab": {
          "base_uri": "https://localhost:8080/"
        },
        "outputId": "e027db76-19f8-4a57-cf2b-ba19acadbb80"
      },
      "source": [
        "linear = nn.Linear(3072, 1024)\n",
        "\n",
        "linear.weight.shape, linear.bias.shape"
      ],
      "execution_count": 90,
      "outputs": [
        {
          "output_type": "execute_result",
          "data": {
            "text/plain": [
              "(torch.Size([1024, 3072]), torch.Size([1024]))"
            ]
          },
          "metadata": {
            "tags": []
          },
          "execution_count": 90
        }
      ]
    },
    {
      "cell_type": "code",
      "metadata": {
        "id": "f4_LEga4av6Y"
      },
      "source": [
        "conv = nn.Conv2d(3, 16, kernel_size=3)"
      ],
      "execution_count": 91,
      "outputs": []
    },
    {
      "cell_type": "code",
      "metadata": {
        "id": "Mb2yWJZeav6Y",
        "colab": {
          "base_uri": "https://localhost:8080/"
        },
        "outputId": "f476eadf-f88c-4757-c0ec-b8e8c1f72a2d"
      },
      "source": [
        "conv.weight.shape"
      ],
      "execution_count": 92,
      "outputs": [
        {
          "output_type": "execute_result",
          "data": {
            "text/plain": [
              "torch.Size([16, 3, 3, 3])"
            ]
          },
          "metadata": {
            "tags": []
          },
          "execution_count": 92
        }
      ]
    },
    {
      "cell_type": "code",
      "metadata": {
        "id": "NDTwMU7Qav6Y",
        "colab": {
          "base_uri": "https://localhost:8080/"
        },
        "outputId": "0627fa09-0cff-42f4-fc58-bbcf7fa778ad"
      },
      "source": [
        "conv.bias.shape"
      ],
      "execution_count": 93,
      "outputs": [
        {
          "output_type": "execute_result",
          "data": {
            "text/plain": [
              "torch.Size([16])"
            ]
          },
          "metadata": {
            "tags": []
          },
          "execution_count": 93
        }
      ]
    },
    {
      "cell_type": "code",
      "metadata": {
        "id": "2SlTBwFyav6Y"
      },
      "source": [
        "img, _ = cifar2[0]\n",
        "\n",
        "output = conv(img.unsqueeze(0))"
      ],
      "execution_count": 94,
      "outputs": []
    },
    {
      "cell_type": "code",
      "metadata": {
        "id": "rN-LzfOBav6Z",
        "colab": {
          "base_uri": "https://localhost:8080/"
        },
        "outputId": "03d14cdd-6161-42e8-f832-8960667fe1f0"
      },
      "source": [
        "img.unsqueeze(0).shape, output.shape"
      ],
      "execution_count": 95,
      "outputs": [
        {
          "output_type": "execute_result",
          "data": {
            "text/plain": [
              "(torch.Size([1, 3, 32, 32]), torch.Size([1, 16, 30, 30]))"
            ]
          },
          "metadata": {
            "tags": []
          },
          "execution_count": 95
        }
      ]
    },
    {
      "cell_type": "code",
      "metadata": {
        "id": "_seY5p1Gav6Z",
        "colab": {
          "base_uri": "https://localhost:8080/",
          "height": 283
        },
        "outputId": "d371e617-90d0-4659-b6f9-7bef5f5b48b5"
      },
      "source": [
        "plt.imshow(img.permute(1, 2, 0), cmap='gray')\n",
        "plt.show()"
      ],
      "execution_count": 96,
      "outputs": [
        {
          "output_type": "stream",
          "text": [
            "Clipping input data to the valid range for imshow with RGB data ([0..1] for floats or [0..255] for integers).\n"
          ],
          "name": "stderr"
        },
        {
          "output_type": "display_data",
          "data": {
            "image/png": "[encoded data removed]",
            "text/plain": [
              "<Figure size 432x288 with 1 Axes>"
            ]
          },
          "metadata": {
            "tags": [],
            "needs_background": "light"
          }
        }
      ]
    },
    {
      "cell_type": "code",
      "metadata": {
        "id": "vKX-c9YEav6Z",
        "colab": {
          "base_uri": "https://localhost:8080/",
          "height": 266
        },
        "outputId": "165622d4-a9f3-4853-e335-c9d1099b0e36"
      },
      "source": [
        "plt.imshow(output[0, 0].detach(), cmap='gray')\n",
        "plt.show()"
      ],
      "execution_count": 97,
      "outputs": [
        {
          "output_type": "display_data",
          "data": {
            "image/png": "[encoded data removed]",
            "text/plain": [
              "<Figure size 432x288 with 1 Axes>"
            ]
          },
          "metadata": {
            "tags": [],
            "needs_background": "light"
          }
        }
      ]
    },
    {
      "cell_type": "code",
      "metadata": {
        "id": "171vuQkqav6Z",
        "colab": {
          "base_uri": "https://localhost:8080/"
        },
        "outputId": "3520816e-7b03-4ad7-fece-b3a732ef082c"
      },
      "source": [
        "output.shape"
      ],
      "execution_count": 98,
      "outputs": [
        {
          "output_type": "execute_result",
          "data": {
            "text/plain": [
              "torch.Size([1, 16, 30, 30])"
            ]
          },
          "metadata": {
            "tags": []
          },
          "execution_count": 98
        }
      ]
    },
    {
      "cell_type": "code",
      "metadata": {
        "id": "1xiAYgD6av6Z"
      },
      "source": [
        "conv = nn.Conv2d(3, 1, kernel_size=3, padding=1)"
      ],
      "execution_count": 99,
      "outputs": []
    },
    {
      "cell_type": "code",
      "metadata": {
        "id": "rMkiu6LDav6Z",
        "colab": {
          "base_uri": "https://localhost:8080/"
        },
        "outputId": "a8acc2fc-1de7-4b0c-eb82-43ecbe9643f3"
      },
      "source": [
        "output = conv(img.unsqueeze(0))\n",
        "\n",
        "output.shape"
      ],
      "execution_count": 100,
      "outputs": [
        {
          "output_type": "execute_result",
          "data": {
            "text/plain": [
              "torch.Size([1, 1, 32, 32])"
            ]
          },
          "metadata": {
            "tags": []
          },
          "execution_count": 100
        }
      ]
    },
    {
      "cell_type": "code",
      "metadata": {
        "id": "URYINj5tav6Z"
      },
      "source": [
        "with torch.no_grad():\n",
        "    conv.bias.zero_()"
      ],
      "execution_count": 101,
      "outputs": []
    },
    {
      "cell_type": "code",
      "metadata": {
        "id": "Q0HMxkwIav6Z"
      },
      "source": [
        "with torch.no_grad():\n",
        "    conv.weight.fill_(1.0 / 9.0)"
      ],
      "execution_count": 102,
      "outputs": []
    },
    {
      "cell_type": "code",
      "metadata": {
        "id": "Mi5A0Ul_av6Z",
        "colab": {
          "base_uri": "https://localhost:8080/",
          "height": 266
        },
        "outputId": "741c00e3-c2a3-41be-a097-72cd34af8daf"
      },
      "source": [
        "output = conv(img.unsqueeze(0))\n",
        "plt.imshow(output[0, 0].detach(), cmap='gray')\n",
        "plt.show()"
      ],
      "execution_count": 103,
      "outputs": [
        {
          "output_type": "display_data",
          "data": {
            "image/png": "[encoded data removed]",
            "text/plain": [
              "<Figure size 432x288 with 1 Axes>"
            ]
          },
          "metadata": {
            "tags": [],
            "needs_background": "light"
          }
        }
      ]
    },
    {
      "cell_type": "code",
      "metadata": {
        "id": "_nP0oY5eav6a"
      },
      "source": [
        "conv = nn.Conv2d(3, 1, kernel_size=3, padding=1)\n",
        "\n",
        "with torch.no_grad():\n",
        "    conv.weight[:] = torch.tensor([[-1.0, 0.0, 1.0],\n",
        "                                   [-1.0, 0.0, 1.0],\n",
        "                                   [-1.0, 0.0, 1.0]])\n",
        "    conv.bias.zero_()"
      ],
      "execution_count": 104,
      "outputs": []
    },
    {
      "cell_type": "code",
      "metadata": {
        "id": "XaY7T5gwav6a",
        "colab": {
          "base_uri": "https://localhost:8080/",
          "height": 266
        },
        "outputId": "5a5546c0-d57e-4f6a-e337-12b97d42cc49"
      },
      "source": [
        "output = conv(img.unsqueeze(0))\n",
        "plt.imshow(output[0, 0].detach(), cmap='gray')\n",
        "plt.show()"
      ],
      "execution_count": 105,
      "outputs": [
        {
          "output_type": "display_data",
          "data": {
            "image/png": "[encoded data removed]",
            "text/plain": [
              "<Figure size 432x288 with 1 Axes>"
            ]
          },
          "metadata": {
            "tags": [],
            "needs_background": "light"
          }
        }
      ]
    },
    {
      "cell_type": "code",
      "metadata": {
        "id": "zIhg5xwjav6a"
      },
      "source": [
        "pool = nn.MaxPool2d(2)"
      ],
      "execution_count": 106,
      "outputs": []
    },
    {
      "cell_type": "code",
      "metadata": {
        "id": "ppktYNwRav6a",
        "colab": {
          "base_uri": "https://localhost:8080/"
        },
        "outputId": "5043c2d8-19f1-40ed-c2ad-5d437e3b15fb"
      },
      "source": [
        "output = pool(img.unsqueeze(0))\n",
        "\n",
        "output.shape"
      ],
      "execution_count": 107,
      "outputs": [
        {
          "output_type": "execute_result",
          "data": {
            "text/plain": [
              "torch.Size([1, 3, 16, 16])"
            ]
          },
          "metadata": {
            "tags": []
          },
          "execution_count": 107
        }
      ]
    },
    {
      "cell_type": "code",
      "metadata": {
        "id": "0Y5O2R3Eav6a"
      },
      "source": [
        ""
      ],
      "execution_count": 107,
      "outputs": []
    },
    {
      "cell_type": "code",
      "metadata": {
        "id": "HhEj9m9Wav6a"
      },
      "source": [
        "model = nn.Sequential(\n",
        "            nn.Conv2d(3, 16, kernel_size=3, padding=1),\n",
        "            nn.Tanh(),\n",
        "            nn.MaxPool2d(2),\n",
        "            nn.Conv2d(16, 8, kernel_size=3, padding=1),\n",
        "            nn.Tanh(),\n",
        "            nn.MaxPool2d(2),\n",
        "            # WARNING: something missing here\n",
        "            nn.Linear(512, 32),\n",
        "            nn.Tanh(),\n",
        "            nn.Linear(32, 4))"
      ],
      "execution_count": 108,
      "outputs": []
    },
    {
      "cell_type": "code",
      "metadata": {
        "id": "h_3D4GqTav6a",
        "colab": {
          "base_uri": "https://localhost:8080/"
        },
        "outputId": "2110c6a1-3dd1-4d8b-ca67-0a8b911e1a7d"
      },
      "source": [
        "sum([p.numel() for p in model.parameters()])"
      ],
      "execution_count": 109,
      "outputs": [
        {
          "output_type": "execute_result",
          "data": {
            "text/plain": [
              "18156"
            ]
          },
          "metadata": {
            "tags": []
          },
          "execution_count": 109
        }
      ]
    },
    {
      "cell_type": "code",
      "metadata": {
        "id": "R9tE0SVBav6a"
      },
      "source": [
        ""
      ],
      "execution_count": 109,
      "outputs": []
    },
    {
      "cell_type": "code",
      "metadata": {
        "id": "-RKpRz02av6a"
      },
      "source": [
        "class Net(nn.Module):\n",
        "    def __init__(self):\n",
        "        super(Net, self).__init__()\n",
        "        self.conv1 = nn.Conv2d(3, 16, kernel_size=3, padding=1)\n",
        "        self.act1 = nn.Tanh()\n",
        "        self.pool1 = nn.MaxPool2d(2)\n",
        "        self.conv2 = nn.Conv2d(16, 8, kernel_size=3, padding=1)\n",
        "        self.act2 = nn.Tanh()\n",
        "        self.pool2 = nn.MaxPool2d(2)\n",
        "        self.fc1 = nn.Linear(8 * 8 * 8, 32)\n",
        "        self.act4 = nn.Tanh()\n",
        "        self.fc2 = nn.Linear(32, 4)\n",
        "\n",
        "    def forward(self, x):\n",
        "        out = self.pool1(self.act1(self.conv1(x)))\n",
        "        out = self.pool2(self.act2(self.conv2(out)))\n",
        "        out = out.view(-1, 8 * 8 * 8)\n",
        "        out = self.act4(self.fc1(out))\n",
        "        out = self.fc2(out)\n",
        "        return out"
      ],
      "execution_count": 110,
      "outputs": []
    },
    {
      "cell_type": "code",
      "metadata": {
        "id": "nDVDoJptav6b",
        "colab": {
          "base_uri": "https://localhost:8080/"
        },
        "outputId": "73b03b29-71f0-4ead-9a9e-4db23abf033e"
      },
      "source": [
        "model = Net()\n",
        "\n",
        "sum([p.numel() for p in model.parameters()])"
      ],
      "execution_count": 111,
      "outputs": [
        {
          "output_type": "execute_result",
          "data": {
            "text/plain": [
              "18156"
            ]
          },
          "metadata": {
            "tags": []
          },
          "execution_count": 111
        }
      ]
    },
    {
      "cell_type": "code",
      "metadata": {
        "id": "WSBnkEpDav6b"
      },
      "source": [
        "import torch.nn.functional as F\n",
        "\n",
        "class Net(nn.Module):\n",
        "    def __init__(self):\n",
        "        super(Net, self).__init__()\n",
        "        self.conv1 = nn.Conv2d(3, 16, kernel_size=3, padding=1)\n",
        "        self.conv2 = nn.Conv2d(16, 8, kernel_size=3, padding=1)\n",
        "        self.fc1 = nn.Linear(8 * 8 * 8, 32)\n",
        "        self.fc2 = nn.Linear(32, 4)\n",
        "        \n",
        "    def forward(self, x):\n",
        "        out = F.max_pool2d(torch.tanh(self.conv1(x)), 2)\n",
        "        out = F.max_pool2d(torch.tanh(self.conv2(out)), 2)\n",
        "        out = out.view(-1, 8 * 8 * 8)\n",
        "        out = torch.tanh(self.fc1(out))\n",
        "        out = self.fc2(out)\n",
        "        return out"
      ],
      "execution_count": 112,
      "outputs": []
    },
    {
      "cell_type": "code",
      "metadata": {
        "id": "aBEYCrJVav6b",
        "colab": {
          "base_uri": "https://localhost:8080/"
        },
        "outputId": "0eb4c7ae-4bf2-4cc8-8930-8942f498702a"
      },
      "source": [
        "model = Net()\n",
        "model(img.unsqueeze(0))"
      ],
      "execution_count": 113,
      "outputs": [
        {
          "output_type": "execute_result",
          "data": {
            "text/plain": [
              "tensor([[-0.1363, -0.1127, -0.1349, -0.0853]], grad_fn=<AddmmBackward>)"
            ]
          },
          "metadata": {
            "tags": []
          },
          "execution_count": 113
        }
      ]
    },
    {
      "cell_type": "code",
      "metadata": {
        "id": "HLwLqfVEav6b",
        "colab": {
          "base_uri": "https://localhost:8080/"
        },
        "outputId": "6bf7fe0a-5dd5-4f5c-e3ba-b04467b56436"
      },
      "source": [
        "import torch\n",
        "import torch.nn as nn\n",
        "import torch.nn.functional as F\n",
        "\n",
        "train_loader = torch.utils.data.DataLoader(cifar2, batch_size=64,\n",
        "                                           shuffle=True)\n",
        "\n",
        "class Net(nn.Module):\n",
        "    def __init__(self):\n",
        "        super(Net, self).__init__()\n",
        "        self.conv1 = nn.Conv2d(3, 16, kernel_size=3, padding=1)\n",
        "        self.conv2 = nn.Conv2d(16, 8, kernel_size=3, padding=1)\n",
        "        self.fc1 = nn.Linear(8 * 8 * 8, 32)\n",
        "        self.fc2 = nn.Linear(32, 4)\n",
        "        \n",
        "    def forward(self, x):\n",
        "        out = F.max_pool2d(torch.relu(self.conv1(x)), 2)\n",
        "        out = F.max_pool2d(torch.relu(self.conv2(out)), 2)\n",
        "        out = out.view(-1, 8 * 8 * 8)\n",
        "        out = torch.tanh(self.fc1(out))\n",
        "        out = self.fc2(out)\n",
        "        return out\n",
        "    \n",
        "model = Net().to(device=device)\n",
        "\n",
        "learning_rate = 1e-2\n",
        "\n",
        "optimizer = optim.SGD(model.parameters(), lr=learning_rate)\n",
        "\n",
        "loss_fn = nn.CrossEntropyLoss()\n",
        "\n",
        "n_epochs = 200\n",
        "start=time.time()\n",
        "for epoch in range(n_epochs):\n",
        "    for imgs, labels in train_loader:\n",
        "        imgs = imgs.to(device=device)\n",
        "        labels = labels.to(device=device)\n",
        "        outputs = model(imgs)\n",
        "        loss = loss_fn(outputs, labels)\n",
        "                \n",
        "        optimizer.zero_grad()\n",
        "        loss.backward()\n",
        "        optimizer.step()\n",
        "\n",
        "    print(\"Epoch: %d, Loss: %f\" % (epoch, float(loss)))\n",
        "stop=time.time()\n",
        "duration= stop-start\n",
        "print(duration)"
      ],
      "execution_count": 114,
      "outputs": [
        {
          "output_type": "stream",
          "text": [
            "Epoch: 0, Loss: 0.964538\n",
            "Epoch: 1, Loss: 0.724162\n",
            "Epoch: 2, Loss: 0.747962\n",
            "Epoch: 3, Loss: 0.706957\n",
            "Epoch: 4, Loss: 0.495163\n",
            "Epoch: 5, Loss: 0.567699\n",
            "Epoch: 6, Loss: 0.386466\n",
            "Epoch: 7, Loss: 0.638354\n",
            "Epoch: 8, Loss: 0.728167\n",
            "Epoch: 9, Loss: 0.491828\n",
            "Epoch: 10, Loss: 0.345216\n",
            "Epoch: 11, Loss: 0.608542\n",
            "Epoch: 12, Loss: 0.341203\n",
            "Epoch: 13, Loss: 0.388523\n",
            "Epoch: 14, Loss: 0.297853\n",
            "Epoch: 15, Loss: 0.304053\n",
            "Epoch: 16, Loss: 0.356352\n",
            "Epoch: 17, Loss: 0.448935\n",
            "Epoch: 18, Loss: 0.143963\n",
            "Epoch: 19, Loss: 0.336888\n",
            "Epoch: 20, Loss: 0.244590\n",
            "Epoch: 21, Loss: 0.486749\n",
            "Epoch: 22, Loss: 0.185261\n",
            "Epoch: 23, Loss: 0.384221\n",
            "Epoch: 24, Loss: 0.216494\n",
            "Epoch: 25, Loss: 0.193540\n",
            "Epoch: 26, Loss: 0.260862\n",
            "Epoch: 27, Loss: 0.338492\n",
            "Epoch: 28, Loss: 0.210572\n",
            "Epoch: 29, Loss: 0.452789\n",
            "Epoch: 30, Loss: 0.339210\n",
            "Epoch: 31, Loss: 0.392468\n",
            "Epoch: 32, Loss: 0.330184\n",
            "Epoch: 33, Loss: 0.154263\n",
            "Epoch: 34, Loss: 0.128836\n",
            "Epoch: 35, Loss: 0.224063\n",
            "Epoch: 36, Loss: 0.376281\n",
            "Epoch: 37, Loss: 0.088077\n",
            "Epoch: 38, Loss: 0.265481\n",
            "Epoch: 39, Loss: 0.149547\n",
            "Epoch: 40, Loss: 0.100602\n",
            "Epoch: 41, Loss: 0.257415\n",
            "Epoch: 42, Loss: 0.169402\n",
            "Epoch: 43, Loss: 0.120154\n",
            "Epoch: 44, Loss: 0.065142\n",
            "Epoch: 45, Loss: 0.110848\n",
            "Epoch: 46, Loss: 0.193527\n",
            "Epoch: 47, Loss: 0.102896\n",
            "Epoch: 48, Loss: 0.404394\n",
            "Epoch: 49, Loss: 0.109832\n",
            "Epoch: 50, Loss: 0.113977\n",
            "Epoch: 51, Loss: 0.065257\n",
            "Epoch: 52, Loss: 0.059369\n",
            "Epoch: 53, Loss: 0.073771\n",
            "Epoch: 54, Loss: 0.143591\n",
            "Epoch: 55, Loss: 0.243846\n",
            "Epoch: 56, Loss: 0.385194\n",
            "Epoch: 57, Loss: 0.138803\n",
            "Epoch: 58, Loss: 0.138210\n",
            "Epoch: 59, Loss: 0.291677\n",
            "Epoch: 60, Loss: 0.071370\n",
            "Epoch: 61, Loss: 0.183263\n",
            "Epoch: 62, Loss: 0.118577\n",
            "Epoch: 63, Loss: 0.060439\n",
            "Epoch: 64, Loss: 0.197362\n",
            "Epoch: 65, Loss: 0.431067\n",
            "Epoch: 66, Loss: 0.094351\n",
            "Epoch: 67, Loss: 0.034229\n",
            "Epoch: 68, Loss: 0.090011\n",
            "Epoch: 69, Loss: 0.089980\n",
            "Epoch: 70, Loss: 0.054884\n",
            "Epoch: 71, Loss: 0.105454\n",
            "Epoch: 72, Loss: 0.050647\n",
            "Epoch: 73, Loss: 0.109324\n",
            "Epoch: 74, Loss: 0.384067\n",
            "Epoch: 75, Loss: 0.097766\n",
            "Epoch: 76, Loss: 0.155045\n",
            "Epoch: 77, Loss: 0.100950\n",
            "Epoch: 78, Loss: 0.022043\n",
            "Epoch: 79, Loss: 0.071543\n",
            "Epoch: 80, Loss: 0.063986\n",
            "Epoch: 81, Loss: 0.094386\n",
            "Epoch: 82, Loss: 0.044546\n",
            "Epoch: 83, Loss: 0.171485\n",
            "Epoch: 84, Loss: 0.037446\n",
            "Epoch: 85, Loss: 0.057985\n",
            "Epoch: 86, Loss: 0.031680\n",
            "Epoch: 87, Loss: 0.023299\n",
            "Epoch: 88, Loss: 0.117570\n",
            "Epoch: 89, Loss: 0.077504\n",
            "Epoch: 90, Loss: 0.061603\n",
            "Epoch: 91, Loss: 0.028931\n",
            "Epoch: 92, Loss: 0.032096\n",
            "Epoch: 93, Loss: 0.039861\n",
            "Epoch: 94, Loss: 0.222897\n",
            "Epoch: 95, Loss: 0.084085\n",
            "Epoch: 96, Loss: 0.016941\n",
            "Epoch: 97, Loss: 0.057337\n",
            "Epoch: 98, Loss: 0.022104\n",
            "Epoch: 99, Loss: 0.022809\n",
            "Epoch: 100, Loss: 0.030823\n",
            "Epoch: 101, Loss: 0.033784\n",
            "Epoch: 102, Loss: 0.015065\n",
            "Epoch: 103, Loss: 0.020855\n",
            "Epoch: 104, Loss: 0.018918\n",
            "Epoch: 105, Loss: 0.020954\n",
            "Epoch: 106, Loss: 0.023256\n",
            "Epoch: 107, Loss: 0.041368\n",
            "Epoch: 108, Loss: 0.023042\n",
            "Epoch: 109, Loss: 0.028908\n",
            "Epoch: 110, Loss: 0.021116\n",
            "Epoch: 111, Loss: 0.086932\n",
            "Epoch: 112, Loss: 0.023409\n",
            "Epoch: 113, Loss: 0.003312\n",
            "Epoch: 114, Loss: 0.054088\n",
            "Epoch: 115, Loss: 0.018313\n",
            "Epoch: 116, Loss: 0.032817\n",
            "Epoch: 117, Loss: 0.046866\n",
            "Epoch: 118, Loss: 0.035803\n",
            "Epoch: 119, Loss: 0.029006\n",
            "Epoch: 120, Loss: 0.050095\n",
            "Epoch: 121, Loss: 0.012307\n",
            "Epoch: 122, Loss: 0.018390\n",
            "Epoch: 123, Loss: 0.015453\n",
            "Epoch: 124, Loss: 0.013493\n",
            "Epoch: 125, Loss: 0.087426\n",
            "Epoch: 126, Loss: 0.020163\n",
            "Epoch: 127, Loss: 0.012792\n",
            "Epoch: 128, Loss: 0.043655\n",
            "Epoch: 129, Loss: 0.020054\n",
            "Epoch: 130, Loss: 0.022352\n",
            "Epoch: 131, Loss: 0.070918\n",
            "Epoch: 132, Loss: 0.083513\n",
            "Epoch: 133, Loss: 0.077547\n",
            "Epoch: 134, Loss: 0.019590\n",
            "Epoch: 135, Loss: 0.007852\n",
            "Epoch: 136, Loss: 0.024403\n",
            "Epoch: 137, Loss: 0.028301\n",
            "Epoch: 138, Loss: 0.030920\n",
            "Epoch: 139, Loss: 0.014456\n",
            "Epoch: 140, Loss: 0.019373\n",
            "Epoch: 141, Loss: 0.017821\n",
            "Epoch: 142, Loss: 0.010950\n",
            "Epoch: 143, Loss: 0.150103\n",
            "Epoch: 144, Loss: 0.025437\n",
            "Epoch: 145, Loss: 0.043801\n",
            "Epoch: 146, Loss: 0.005371\n",
            "Epoch: 147, Loss: 0.006602\n",
            "Epoch: 148, Loss: 0.012566\n",
            "Epoch: 149, Loss: 0.026164\n",
            "Epoch: 150, Loss: 0.018666\n",
            "Epoch: 151, Loss: 0.008990\n",
            "Epoch: 152, Loss: 0.015164\n",
            "Epoch: 153, Loss: 0.021507\n",
            "Epoch: 154, Loss: 0.017322\n",
            "Epoch: 155, Loss: 0.011532\n",
            "Epoch: 156, Loss: 0.019694\n",
            "Epoch: 157, Loss: 0.007389\n",
            "Epoch: 158, Loss: 0.006954\n",
            "Epoch: 159, Loss: 0.007758\n",
            "Epoch: 160, Loss: 0.009871\n",
            "Epoch: 161, Loss: 0.003685\n",
            "Epoch: 162, Loss: 0.026212\n",
            "Epoch: 163, Loss: 0.024858\n",
            "Epoch: 164, Loss: 0.012327\n",
            "Epoch: 165, Loss: 0.012566\n",
            "Epoch: 166, Loss: 0.031120\n",
            "Epoch: 167, Loss: 0.007268\n",
            "Epoch: 168, Loss: 0.033327\n",
            "Epoch: 169, Loss: 0.009463\n",
            "Epoch: 170, Loss: 0.013696\n",
            "Epoch: 171, Loss: 0.041311\n",
            "Epoch: 172, Loss: 0.004904\n",
            "Epoch: 173, Loss: 0.011339\n",
            "Epoch: 174, Loss: 0.007507\n",
            "Epoch: 175, Loss: 0.055493\n",
            "Epoch: 176, Loss: 0.003036\n",
            "Epoch: 177, Loss: 0.009776\n",
            "Epoch: 178, Loss: 0.010612\n",
            "Epoch: 179, Loss: 0.006798\n",
            "Epoch: 180, Loss: 0.006390\n",
            "Epoch: 181, Loss: 0.024922\n",
            "Epoch: 182, Loss: 0.006513\n",
            "Epoch: 183, Loss: 0.010178\n",
            "Epoch: 184, Loss: 0.006640\n",
            "Epoch: 185, Loss: 0.002605\n",
            "Epoch: 186, Loss: 0.004657\n",
            "Epoch: 187, Loss: 0.003673\n",
            "Epoch: 188, Loss: 0.008314\n",
            "Epoch: 189, Loss: 0.007519\n",
            "Epoch: 190, Loss: 0.006360\n",
            "Epoch: 191, Loss: 0.004467\n",
            "Epoch: 192, Loss: 0.004553\n",
            "Epoch: 193, Loss: 0.007832\n",
            "Epoch: 194, Loss: 0.007269\n",
            "Epoch: 195, Loss: 0.008391\n",
            "Epoch: 196, Loss: 0.003310\n",
            "Epoch: 197, Loss: 0.016790\n",
            "Epoch: 198, Loss: 0.010222\n",
            "Epoch: 199, Loss: 0.010616\n",
            "125.15874695777893\n"
          ],
          "name": "stdout"
        }
      ]
    },
    {
      "cell_type": "code",
      "metadata": {
        "id": "1sPj1Lesav6b",
        "colab": {
          "base_uri": "https://localhost:8080/"
        },
        "outputId": "d6f13b08-78bc-49c3-edff-0bab157bffe4"
      },
      "source": [
        "train_loader = torch.utils.data.DataLoader(cifar2, batch_size=64,\n",
        "                                           shuffle=False)\n",
        "\n",
        "correct = 0\n",
        "total = 0\n",
        "\n",
        "with torch.no_grad():\n",
        "    for imgs, labels in train_loader:\n",
        "        imgs = imgs.to(device=device)\n",
        "        labels = labels.to(device=device)\n",
        "        outputs = model(imgs)\n",
        "        _, predicted = torch.max(outputs, dim=1)\n",
        "        total += labels.shape[0]\n",
        "        correct += int((predicted == labels).sum())\n",
        "        \n",
        "print(\"Accuracy: %f\" % (correct / total))"
      ],
      "execution_count": 115,
      "outputs": [
        {
          "output_type": "stream",
          "text": [
            "Accuracy: 0.998350\n"
          ],
          "name": "stdout"
        }
      ]
    },
    {
      "cell_type": "code",
      "metadata": {
        "id": "MIBg2b6lav6b",
        "colab": {
          "base_uri": "https://localhost:8080/"
        },
        "outputId": "5149f125-8ba7-4786-bdd5-a6c92fa2600e"
      },
      "source": [
        "val_loader = torch.utils.data.DataLoader(cifar2_val, batch_size=64,\n",
        "                                         shuffle=False)\n",
        "\n",
        "correct = 0\n",
        "total = 0\n",
        "\n",
        "with torch.no_grad():\n",
        "    for imgs, labels in val_loader:\n",
        "        imgs = imgs.to(device=device)\n",
        "        labels = labels.to(device=device)\n",
        "        outputs = model(imgs)\n",
        "        _, predicted = torch.max(outputs, dim=1)\n",
        "        total += labels.shape[0]\n",
        "        correct += int((predicted == labels).sum())\n",
        "        \n",
        "print(\"Accuracy: %f\" % (correct / total))"
      ],
      "execution_count": 116,
      "outputs": [
        {
          "output_type": "stream",
          "text": [
            "Accuracy: 0.893250\n"
          ],
          "name": "stdout"
        }
      ]
    },
    {
      "cell_type": "code",
      "metadata": {
        "id": "svAMYExHav6b",
        "colab": {
          "base_uri": "https://localhost:8080/"
        },
        "outputId": "f7b8cb44-9227-4e1b-db33-7deffc332325"
      },
      "source": [
        "import torch\n",
        "import torch.nn as nn\n",
        "import torch.nn.functional as F\n",
        "\n",
        "class Net(nn.Module):\n",
        "    def __init__(self):\n",
        "        super(Net, self).__init__()\n",
        "        self.conv1 = nn.Conv2d(3, 16, kernel_size=3, padding=1)\n",
        "        self.conv2 = nn.Conv2d(16, 8, kernel_size=3, padding=1)\n",
        "        self.fc1 = nn.Linear(8 * 8 * 8, 32)\n",
        "        self.fc2 = nn.Linear(32, 4)\n",
        "        \n",
        "    def forward(self, x):\n",
        "        out = F.max_pool2d(torch.relu(self.conv1(x)), 2)\n",
        "        out = F.max_pool2d(torch.relu(self.conv2(out)), 2)\n",
        "        out = out.view(-1, 8 * 8 * 8)\n",
        "        out = torch.tanh(self.fc1(out))\n",
        "        out = self.fc2(out)\n",
        "        return out\n",
        "    \n",
        "model = Net()\n",
        "sum([p.numel() for p in model.parameters()])"
      ],
      "execution_count": 117,
      "outputs": [
        {
          "output_type": "execute_result",
          "data": {
            "text/plain": [
              "18156"
            ]
          },
          "metadata": {
            "tags": []
          },
          "execution_count": 117
        }
      ]
    },
    {
      "cell_type": "code",
      "metadata": {
        "id": "Z_QXTkLrav6b"
      },
      "source": [
        "label_map = {0:1,1:2,2:3,3:4,4:5,5:6,6:7,7:8,8:9,9:10}\n",
        "class_names = ['airplane','automobile','bird','cat','deer','dog','frog','horse','ship','truck']\n",
        "cifar2 = [(img, label_map[label])\n",
        "          for img, label in cifar10 \n",
        "          if label in [0,1,2,3,4,5,6,7,8,9]]\n",
        "cifar2_val = [(img, label_map[label])\n",
        "              for img, label in cifar10_val\n",
        "              if label in [0,1,2,3,4,5,6,7,8,9]]"
      ],
      "execution_count": 118,
      "outputs": []
    },
    {
      "cell_type": "code",
      "metadata": {
        "id": "CGSoGkaZIOGo"
      },
      "source": [
        "import torch.nn.functional as F\n",
        "\n",
        "class Net(nn.Module):\n",
        "    def __init__(self):\n",
        "        super(Net, self).__init__()\n",
        "        self.conv1 = nn.Conv2d(3, 16, kernel_size=3, padding=1)\n",
        "        self.conv2 = nn.Conv2d(16, 8, kernel_size=3, padding=1)\n",
        "        self.fc1 = nn.Linear(8 * 8 * 8, 32)\n",
        "        self.fc2 = nn.Linear(32, 11)\n",
        "        \n",
        "    def forward(self, x):\n",
        "        out = F.max_pool2d(torch.tanh(self.conv1(x)), 2)\n",
        "        out = F.max_pool2d(torch.tanh(self.conv2(out)), 2)\n",
        "        out = out.view(-1, 8 * 8 * 8)\n",
        "        out = torch.tanh(self.fc1(out))\n",
        "        out = self.fc2(out)\n",
        "        return out"
      ],
      "execution_count": 119,
      "outputs": []
    },
    {
      "cell_type": "code",
      "metadata": {
        "colab": {
          "base_uri": "https://localhost:8080/"
        },
        "id": "epG5N2bXIZcN",
        "outputId": "da6939b3-2ae8-4b28-ac98-1d318860ca5b"
      },
      "source": [
        "import torch\n",
        "import torch.nn as nn\n",
        "import torch.nn.functional as F\n",
        "\n",
        "train_loader = torch.utils.data.DataLoader(cifar2, batch_size=64,\n",
        "                                           shuffle=True)\n",
        "\n",
        "class Net(nn.Module):\n",
        "    def __init__(self):\n",
        "        super(Net, self).__init__()\n",
        "        self.conv1 = nn.Conv2d(3, 16, kernel_size=3, padding=1)\n",
        "        self.conv2 = nn.Conv2d(16, 8, kernel_size=3, padding=1)\n",
        "        self.fc1 = nn.Linear(8 * 8 * 8, 32)\n",
        "        self.fc2 = nn.Linear(32, 11)\n",
        "        \n",
        "    def forward(self, x):\n",
        "        out = F.max_pool2d(torch.relu(self.conv1(x)), 2)\n",
        "        out = F.max_pool2d(torch.relu(self.conv2(out)), 2)\n",
        "        out = out.view(-1, 8 * 8 * 8)\n",
        "        out = torch.tanh(self.fc1(out))\n",
        "        out = self.fc2(out)\n",
        "        return out\n",
        "    \n",
        "model = Net().to(device=device)\n",
        "\n",
        "learning_rate = 1e-2\n",
        "\n",
        "optimizer = optim.SGD(model.parameters(), lr=learning_rate)\n",
        "\n",
        "loss_fn = nn.CrossEntropyLoss()\n",
        "\n",
        "n_epochs = 200\n",
        "start=time.time()\n",
        "for epoch in range(n_epochs):\n",
        "    for imgs, labels in train_loader:\n",
        "        imgs = imgs.to(device=device)\n",
        "        labels = labels.to(device=device)\n",
        "        outputs = model(imgs)\n",
        "        loss = loss_fn(outputs, labels)\n",
        "                \n",
        "        optimizer.zero_grad()\n",
        "        loss.backward()\n",
        "        optimizer.step()\n",
        "\n",
        "    print(\"Epoch: %d, Loss: %f\" % (epoch, float(loss)))\n",
        "stop=time.time()\n",
        "duration= stop-start\n",
        "print(duration)"
      ],
      "execution_count": 120,
      "outputs": [
        {
          "output_type": "stream",
          "text": [
            "Epoch: 0, Loss: 1.630632\n",
            "Epoch: 1, Loss: 1.626038\n",
            "Epoch: 2, Loss: 1.473959\n",
            "Epoch: 3, Loss: 1.014542\n",
            "Epoch: 4, Loss: 1.309493\n",
            "Epoch: 5, Loss: 1.452033\n",
            "Epoch: 6, Loss: 0.984312\n",
            "Epoch: 7, Loss: 1.058070\n",
            "Epoch: 8, Loss: 1.234672\n",
            "Epoch: 9, Loss: 1.363614\n",
            "Epoch: 10, Loss: 1.229454\n",
            "Epoch: 11, Loss: 1.573955\n",
            "Epoch: 12, Loss: 1.040215\n",
            "Epoch: 13, Loss: 0.997568\n",
            "Epoch: 14, Loss: 1.200594\n",
            "Epoch: 15, Loss: 0.687044\n",
            "Epoch: 16, Loss: 0.784708\n",
            "Epoch: 17, Loss: 1.193579\n",
            "Epoch: 18, Loss: 0.966077\n",
            "Epoch: 19, Loss: 0.866512\n",
            "Epoch: 20, Loss: 0.907054\n",
            "Epoch: 21, Loss: 0.967395\n",
            "Epoch: 22, Loss: 1.111829\n",
            "Epoch: 23, Loss: 0.850336\n",
            "Epoch: 24, Loss: 0.974863\n",
            "Epoch: 25, Loss: 0.825736\n",
            "Epoch: 26, Loss: 1.006421\n",
            "Epoch: 27, Loss: 1.136679\n",
            "Epoch: 28, Loss: 1.106830\n",
            "Epoch: 29, Loss: 0.985275\n",
            "Epoch: 30, Loss: 0.463608\n",
            "Epoch: 31, Loss: 0.740429\n",
            "Epoch: 32, Loss: 1.185346\n",
            "Epoch: 33, Loss: 0.788887\n",
            "Epoch: 34, Loss: 1.607178\n",
            "Epoch: 35, Loss: 0.955403\n",
            "Epoch: 36, Loss: 0.809623\n",
            "Epoch: 37, Loss: 1.026389\n",
            "Epoch: 38, Loss: 0.759034\n",
            "Epoch: 39, Loss: 0.647634\n",
            "Epoch: 40, Loss: 0.905032\n",
            "Epoch: 41, Loss: 1.020274\n",
            "Epoch: 42, Loss: 1.004238\n",
            "Epoch: 43, Loss: 0.852024\n",
            "Epoch: 44, Loss: 0.676200\n",
            "Epoch: 45, Loss: 0.662873\n",
            "Epoch: 46, Loss: 1.095437\n",
            "Epoch: 47, Loss: 0.792836\n",
            "Epoch: 48, Loss: 0.847426\n",
            "Epoch: 49, Loss: 0.604386\n",
            "Epoch: 50, Loss: 0.958202\n",
            "Epoch: 51, Loss: 0.368288\n",
            "Epoch: 52, Loss: 0.481525\n",
            "Epoch: 53, Loss: 0.711409\n",
            "Epoch: 54, Loss: 0.971635\n",
            "Epoch: 55, Loss: 0.803595\n",
            "Epoch: 56, Loss: 0.782283\n",
            "Epoch: 57, Loss: 0.490061\n",
            "Epoch: 58, Loss: 0.536608\n",
            "Epoch: 59, Loss: 0.853467\n",
            "Epoch: 60, Loss: 0.721551\n",
            "Epoch: 61, Loss: 0.428250\n",
            "Epoch: 62, Loss: 0.398801\n",
            "Epoch: 63, Loss: 0.789172\n",
            "Epoch: 64, Loss: 0.350363\n",
            "Epoch: 65, Loss: 1.115459\n",
            "Epoch: 66, Loss: 1.361266\n",
            "Epoch: 67, Loss: 1.255412\n",
            "Epoch: 68, Loss: 0.564192\n",
            "Epoch: 69, Loss: 0.436549\n",
            "Epoch: 70, Loss: 0.937413\n",
            "Epoch: 71, Loss: 1.240954\n",
            "Epoch: 72, Loss: 0.713515\n",
            "Epoch: 73, Loss: 0.664266\n",
            "Epoch: 74, Loss: 0.792530\n",
            "Epoch: 75, Loss: 0.890128\n",
            "Epoch: 76, Loss: 0.759067\n",
            "Epoch: 77, Loss: 0.821808\n",
            "Epoch: 78, Loss: 0.593517\n",
            "Epoch: 79, Loss: 1.066600\n",
            "Epoch: 80, Loss: 1.239662\n",
            "Epoch: 81, Loss: 0.774361\n",
            "Epoch: 82, Loss: 0.390010\n",
            "Epoch: 83, Loss: 0.964416\n",
            "Epoch: 84, Loss: 1.085132\n",
            "Epoch: 85, Loss: 0.747433\n",
            "Epoch: 86, Loss: 1.023928\n",
            "Epoch: 87, Loss: 0.423112\n",
            "Epoch: 88, Loss: 1.091587\n",
            "Epoch: 89, Loss: 0.482871\n",
            "Epoch: 90, Loss: 0.635011\n",
            "Epoch: 91, Loss: 0.468776\n",
            "Epoch: 92, Loss: 0.493218\n",
            "Epoch: 93, Loss: 0.867923\n",
            "Epoch: 94, Loss: 0.620053\n",
            "Epoch: 95, Loss: 1.781363\n",
            "Epoch: 96, Loss: 1.129022\n",
            "Epoch: 97, Loss: 1.030645\n",
            "Epoch: 98, Loss: 0.271970\n",
            "Epoch: 99, Loss: 0.735519\n",
            "Epoch: 100, Loss: 0.577851\n",
            "Epoch: 101, Loss: 0.608651\n",
            "Epoch: 102, Loss: 0.393906\n",
            "Epoch: 103, Loss: 0.667262\n",
            "Epoch: 104, Loss: 0.569054\n",
            "Epoch: 105, Loss: 0.525331\n",
            "Epoch: 106, Loss: 0.971918\n",
            "Epoch: 107, Loss: 0.810839\n",
            "Epoch: 108, Loss: 0.687702\n",
            "Epoch: 109, Loss: 0.631258\n",
            "Epoch: 110, Loss: 1.221375\n",
            "Epoch: 111, Loss: 0.714578\n",
            "Epoch: 112, Loss: 0.773356\n",
            "Epoch: 113, Loss: 0.970697\n",
            "Epoch: 114, Loss: 0.694017\n",
            "Epoch: 115, Loss: 0.708794\n",
            "Epoch: 116, Loss: 0.634752\n",
            "Epoch: 117, Loss: 1.011657\n",
            "Epoch: 118, Loss: 0.823846\n",
            "Epoch: 119, Loss: 1.136559\n",
            "Epoch: 120, Loss: 0.460762\n",
            "Epoch: 121, Loss: 0.285339\n",
            "Epoch: 122, Loss: 0.609543\n",
            "Epoch: 123, Loss: 0.731917\n",
            "Epoch: 124, Loss: 0.334039\n",
            "Epoch: 125, Loss: 0.664728\n",
            "Epoch: 126, Loss: 0.986010\n",
            "Epoch: 127, Loss: 0.478359\n",
            "Epoch: 128, Loss: 0.207851\n",
            "Epoch: 129, Loss: 0.556501\n",
            "Epoch: 130, Loss: 0.696734\n",
            "Epoch: 131, Loss: 0.369567\n",
            "Epoch: 132, Loss: 0.446363\n",
            "Epoch: 133, Loss: 0.681634\n",
            "Epoch: 134, Loss: 0.545506\n",
            "Epoch: 135, Loss: 0.777489\n",
            "Epoch: 136, Loss: 0.785830\n",
            "Epoch: 137, Loss: 0.528228\n",
            "Epoch: 138, Loss: 0.753022\n",
            "Epoch: 139, Loss: 0.474088\n",
            "Epoch: 140, Loss: 0.417510\n",
            "Epoch: 141, Loss: 0.716990\n",
            "Epoch: 142, Loss: 0.239441\n",
            "Epoch: 143, Loss: 0.554899\n",
            "Epoch: 144, Loss: 0.936544\n",
            "Epoch: 145, Loss: 0.748122\n",
            "Epoch: 146, Loss: 0.825913\n",
            "Epoch: 147, Loss: 0.404696\n",
            "Epoch: 148, Loss: 0.763083\n",
            "Epoch: 149, Loss: 0.577315\n",
            "Epoch: 150, Loss: 0.423159\n",
            "Epoch: 151, Loss: 0.631814\n",
            "Epoch: 152, Loss: 0.717583\n",
            "Epoch: 153, Loss: 0.423514\n",
            "Epoch: 154, Loss: 0.327239\n",
            "Epoch: 155, Loss: 0.516500\n",
            "Epoch: 156, Loss: 1.084187\n",
            "Epoch: 157, Loss: 0.520892\n",
            "Epoch: 158, Loss: 0.994687\n",
            "Epoch: 159, Loss: 0.470083\n",
            "Epoch: 160, Loss: 0.519242\n",
            "Epoch: 161, Loss: 1.091684\n",
            "Epoch: 162, Loss: 0.511956\n",
            "Epoch: 163, Loss: 0.751553\n",
            "Epoch: 164, Loss: 0.505283\n",
            "Epoch: 165, Loss: 0.756595\n",
            "Epoch: 166, Loss: 0.672741\n",
            "Epoch: 167, Loss: 0.568668\n",
            "Epoch: 168, Loss: 0.527794\n",
            "Epoch: 169, Loss: 0.520113\n",
            "Epoch: 170, Loss: 0.463996\n",
            "Epoch: 171, Loss: 1.662685\n",
            "Epoch: 172, Loss: 0.852148\n",
            "Epoch: 173, Loss: 0.743566\n",
            "Epoch: 174, Loss: 0.267283\n",
            "Epoch: 175, Loss: 0.303889\n",
            "Epoch: 176, Loss: 0.403189\n",
            "Epoch: 177, Loss: 0.239180\n",
            "Epoch: 178, Loss: 0.483372\n",
            "Epoch: 179, Loss: 1.207420\n",
            "Epoch: 180, Loss: 0.327204\n",
            "Epoch: 181, Loss: 0.547137\n",
            "Epoch: 182, Loss: 0.498454\n",
            "Epoch: 183, Loss: 0.393527\n",
            "Epoch: 184, Loss: 0.581552\n",
            "Epoch: 185, Loss: 0.765098\n",
            "Epoch: 186, Loss: 0.327874\n",
            "Epoch: 187, Loss: 0.716726\n",
            "Epoch: 188, Loss: 0.310866\n",
            "Epoch: 189, Loss: 0.290690\n",
            "Epoch: 190, Loss: 0.354156\n",
            "Epoch: 191, Loss: 1.200847\n",
            "Epoch: 192, Loss: 0.688901\n",
            "Epoch: 193, Loss: 0.622787\n",
            "Epoch: 194, Loss: 0.255119\n",
            "Epoch: 195, Loss: 0.223256\n",
            "Epoch: 196, Loss: 0.741649\n",
            "Epoch: 197, Loss: 0.695497\n",
            "Epoch: 198, Loss: 1.487280\n",
            "Epoch: 199, Loss: 0.744646\n",
            "311.1102707386017\n"
          ],
          "name": "stdout"
        }
      ]
    },
    {
      "cell_type": "code",
      "metadata": {
        "colab": {
          "base_uri": "https://localhost:8080/"
        },
        "id": "mRBksrQeWKCy",
        "outputId": "21b6c6db-e3bc-418b-c5f1-bafc342b490e"
      },
      "source": [
        "train_loader = torch.utils.data.DataLoader(cifar2, batch_size=64,\n",
        "                                           shuffle=False)\n",
        "\n",
        "correct = 0\n",
        "total = 0\n",
        "\n",
        "with torch.no_grad():\n",
        "    for imgs, labels in train_loader:\n",
        "        imgs = imgs.to(device=device)\n",
        "        labels = labels.to(device=device)\n",
        "        outputs = model(imgs)\n",
        "        _, predicted = torch.max(outputs, dim=1)\n",
        "        total += labels.shape[0]\n",
        "        correct += int((predicted == labels).sum())\n",
        "        \n",
        "print(\"Accuracy: %f\" % (correct / total))"
      ],
      "execution_count": 121,
      "outputs": [
        {
          "output_type": "stream",
          "text": [
            "Accuracy: 0.793160\n"
          ],
          "name": "stdout"
        }
      ]
    },
    {
      "cell_type": "code",
      "metadata": {
        "colab": {
          "base_uri": "https://localhost:8080/"
        },
        "id": "z5K2DnSJWUQk",
        "outputId": "97117615-dcc4-4857-87e0-2599f222327b"
      },
      "source": [
        "val_loader = torch.utils.data.DataLoader(cifar2_val, batch_size=64,\n",
        "                                         shuffle=False)\n",
        "\n",
        "correct = 0\n",
        "total = 0\n",
        "\n",
        "with torch.no_grad():\n",
        "    for imgs, labels in val_loader:\n",
        "        imgs = imgs.to(device=device)\n",
        "        labels = labels.to(device=device)\n",
        "        outputs = model(imgs)\n",
        "        _, predicted = torch.max(outputs, dim=1)\n",
        "        total += labels.shape[0]\n",
        "        correct += int((predicted == labels).sum())\n",
        "        \n",
        "print(\"Accuracy: %f\" % (correct / total))"
      ],
      "execution_count": 122,
      "outputs": [
        {
          "output_type": "stream",
          "text": [
            "Accuracy: 0.605700\n"
          ],
          "name": "stdout"
        }
      ]
    },
    {
      "cell_type": "code",
      "metadata": {
        "colab": {
          "base_uri": "https://localhost:8080/"
        },
        "id": "gHsJPjoyXedk",
        "outputId": "8ab9146c-0773-447d-d8ea-c0e73f24144e"
      },
      "source": [
        "import torch\n",
        "import torch.nn as nn\n",
        "import torch.nn.functional as F\n",
        "\n",
        "class Net(nn.Module):\n",
        "    def __init__(self):\n",
        "        super(Net, self).__init__()\n",
        "        self.conv1 = nn.Conv2d(3, 16, kernel_size=3, padding=1)\n",
        "        self.conv2 = nn.Conv2d(16, 8, kernel_size=3, padding=1)\n",
        "        self.fc1 = nn.Linear(8 * 8 * 8, 32)\n",
        "        self.fc2 = nn.Linear(32, 11)\n",
        "        \n",
        "    def forward(self, x):\n",
        "        out = F.max_pool2d(torch.relu(self.conv1(x)), 2)\n",
        "        out = F.max_pool2d(torch.relu(self.conv2(out)), 2)\n",
        "        out = out.view(-1, 8 * 8 * 8)\n",
        "        out = torch.tanh(self.fc1(out))\n",
        "        out = self.fc2(out)\n",
        "        return out\n",
        "    \n",
        "model = Net()\n",
        "sum([p.numel() for p in model.parameters()])"
      ],
      "execution_count": 123,
      "outputs": [
        {
          "output_type": "execute_result",
          "data": {
            "text/plain": [
              "18387"
            ]
          },
          "metadata": {
            "tags": []
          },
          "execution_count": 123
        }
      ]
    },
    {
      "cell_type": "code",
      "metadata": {
        "colab": {
          "base_uri": "https://localhost:8080/"
        },
        "id": "9ynBHy7EOiUO",
        "outputId": "a61f04c3-e8bd-46a9-c85d-6a6a94fa8aef"
      },
      "source": [
        "import torch\n",
        "import torch.nn as nn\n",
        "import torch.optim as optim\n",
        "import torch.nn.functional as F\n",
        "\n",
        "train_loader = torch.utils.data.DataLoader(cifar2, batch_size=64,\n",
        "                                           shuffle=True)\n",
        "\n",
        "class Net(nn.Module):\n",
        "    def __init__(self):\n",
        "        super(Net, self).__init__()\n",
        "        self.conv1 = nn.Conv2d(3, 32, kernel_size=3, padding=1)\n",
        "        self.conv2 = nn.Conv2d(32, 16, kernel_size=3, padding=1)\n",
        "        self.conv3 = nn.Conv2d(16, 16, kernel_size=3, padding=1)\n",
        "        self.fc1 = nn.Linear( 4* 4 * 16, 32)\n",
        "        self.fc2 = nn.Linear(32, 11)\n",
        "        \n",
        "    def forward(self, x):\n",
        "        out = F.max_pool2d(torch.relu(self.conv1(x)), 2)\n",
        "        out = F.max_pool2d(torch.relu(self.conv2(out)), 2)\n",
        "        out = F.max_pool2d(torch.relu(self.conv3(out)), 2)\n",
        "        \n",
        "        out = out.view(-1, 4 * 4* 16)\n",
        "        out = torch.tanh(self.fc1(out))\n",
        "        out = self.fc2(out)\n",
        "        return out\n",
        "    \n",
        "model = Net().to(device=device)\n",
        "\n",
        "learning_rate = 1e-2\n",
        "\n",
        "optimizer = optim.SGD(model.parameters(), lr=learning_rate)\n",
        "\n",
        "loss_fn = nn.CrossEntropyLoss()\n",
        "\n",
        "n_epochs = 200\n",
        "start=time.time()\n",
        "for epoch in range(n_epochs):\n",
        "    for imgs, labels in train_loader:\n",
        "      imgs = imgs.to(device=device)\n",
        "      labels = labels.to(device=device)\n",
        "      outputs = model(imgs)\n",
        "      loss = loss_fn(outputs, labels)\n",
        "                \n",
        "      optimizer.zero_grad()\n",
        "      loss.backward()\n",
        "      optimizer.step()\n",
        "\n",
        "    print(\"Epoch: %d, Loss: %f\" % (epoch, float(loss)))\n",
        "stop=time.time()\n",
        "duration= stop-start\n",
        "print(duration)"
      ],
      "execution_count": 125,
      "outputs": [
        {
          "output_type": "stream",
          "text": [
            "Epoch: 0, Loss: 1.815450\n",
            "Epoch: 1, Loss: 1.774333\n",
            "Epoch: 2, Loss: 1.412293\n",
            "Epoch: 3, Loss: 1.370417\n",
            "Epoch: 4, Loss: 1.456674\n",
            "Epoch: 5, Loss: 1.318353\n",
            "Epoch: 6, Loss: 1.207792\n",
            "Epoch: 7, Loss: 1.057680\n",
            "Epoch: 8, Loss: 1.056420\n",
            "Epoch: 9, Loss: 1.383750\n",
            "Epoch: 10, Loss: 0.842261\n",
            "Epoch: 11, Loss: 0.998506\n",
            "Epoch: 12, Loss: 1.673004\n",
            "Epoch: 13, Loss: 1.144144\n",
            "Epoch: 14, Loss: 0.939932\n",
            "Epoch: 15, Loss: 0.854558\n",
            "Epoch: 16, Loss: 1.076940\n",
            "Epoch: 17, Loss: 1.116426\n",
            "Epoch: 18, Loss: 0.966814\n",
            "Epoch: 19, Loss: 0.837389\n",
            "Epoch: 20, Loss: 0.772777\n",
            "Epoch: 21, Loss: 0.987383\n",
            "Epoch: 22, Loss: 0.610867\n",
            "Epoch: 23, Loss: 0.979771\n",
            "Epoch: 24, Loss: 0.486308\n",
            "Epoch: 25, Loss: 0.939357\n",
            "Epoch: 26, Loss: 0.481328\n",
            "Epoch: 27, Loss: 1.017589\n",
            "Epoch: 28, Loss: 0.849248\n",
            "Epoch: 29, Loss: 0.738298\n",
            "Epoch: 30, Loss: 0.400650\n",
            "Epoch: 31, Loss: 0.532152\n",
            "Epoch: 32, Loss: 0.565460\n",
            "Epoch: 33, Loss: 0.860892\n",
            "Epoch: 34, Loss: 0.415114\n",
            "Epoch: 35, Loss: 0.646673\n",
            "Epoch: 36, Loss: 0.603723\n",
            "Epoch: 37, Loss: 0.987874\n",
            "Epoch: 38, Loss: 0.904717\n",
            "Epoch: 39, Loss: 0.673593\n",
            "Epoch: 40, Loss: 0.675331\n",
            "Epoch: 41, Loss: 0.697591\n",
            "Epoch: 42, Loss: 0.586442\n",
            "Epoch: 43, Loss: 0.781747\n",
            "Epoch: 44, Loss: 0.998519\n",
            "Epoch: 45, Loss: 1.145496\n",
            "Epoch: 46, Loss: 0.884872\n",
            "Epoch: 47, Loss: 1.485489\n",
            "Epoch: 48, Loss: 0.683416\n",
            "Epoch: 49, Loss: 0.890194\n",
            "Epoch: 50, Loss: 0.481758\n",
            "Epoch: 51, Loss: 1.014521\n",
            "Epoch: 52, Loss: 0.245946\n",
            "Epoch: 53, Loss: 0.673497\n",
            "Epoch: 54, Loss: 0.677806\n",
            "Epoch: 55, Loss: 0.643022\n",
            "Epoch: 56, Loss: 0.766825\n",
            "Epoch: 57, Loss: 0.476301\n",
            "Epoch: 58, Loss: 0.538511\n",
            "Epoch: 59, Loss: 0.457873\n",
            "Epoch: 60, Loss: 0.741542\n",
            "Epoch: 61, Loss: 0.501815\n",
            "Epoch: 62, Loss: 0.521666\n",
            "Epoch: 63, Loss: 0.668466\n",
            "Epoch: 64, Loss: 0.819792\n",
            "Epoch: 65, Loss: 0.632047\n",
            "Epoch: 66, Loss: 0.440327\n",
            "Epoch: 67, Loss: 0.812687\n",
            "Epoch: 68, Loss: 0.556032\n",
            "Epoch: 69, Loss: 0.979247\n",
            "Epoch: 70, Loss: 0.438927\n",
            "Epoch: 71, Loss: 0.666600\n",
            "Epoch: 72, Loss: 0.576571\n",
            "Epoch: 73, Loss: 0.460111\n",
            "Epoch: 74, Loss: 0.674226\n",
            "Epoch: 75, Loss: 0.250418\n",
            "Epoch: 76, Loss: 0.673608\n",
            "Epoch: 77, Loss: 0.649806\n",
            "Epoch: 78, Loss: 0.588425\n",
            "Epoch: 79, Loss: 0.749631\n",
            "Epoch: 80, Loss: 0.772557\n",
            "Epoch: 81, Loss: 0.360243\n",
            "Epoch: 82, Loss: 0.402461\n",
            "Epoch: 83, Loss: 0.347161\n",
            "Epoch: 84, Loss: 0.645017\n",
            "Epoch: 85, Loss: 0.502582\n",
            "Epoch: 86, Loss: 0.875821\n",
            "Epoch: 87, Loss: 0.747584\n",
            "Epoch: 88, Loss: 0.555686\n",
            "Epoch: 89, Loss: 0.736777\n",
            "Epoch: 90, Loss: 0.471219\n",
            "Epoch: 91, Loss: 0.570371\n",
            "Epoch: 92, Loss: 0.473156\n",
            "Epoch: 93, Loss: 0.345340\n",
            "Epoch: 94, Loss: 0.332614\n",
            "Epoch: 95, Loss: 0.282035\n",
            "Epoch: 96, Loss: 0.293592\n",
            "Epoch: 97, Loss: 0.939425\n",
            "Epoch: 98, Loss: 0.944347\n",
            "Epoch: 99, Loss: 0.929389\n",
            "Epoch: 100, Loss: 0.274769\n",
            "Epoch: 101, Loss: 0.786705\n",
            "Epoch: 102, Loss: 0.242521\n",
            "Epoch: 103, Loss: 0.527716\n",
            "Epoch: 104, Loss: 0.440095\n",
            "Epoch: 105, Loss: 0.497663\n",
            "Epoch: 106, Loss: 0.926447\n",
            "Epoch: 107, Loss: 0.615851\n",
            "Epoch: 108, Loss: 1.087442\n",
            "Epoch: 109, Loss: 0.846562\n",
            "Epoch: 110, Loss: 0.308036\n",
            "Epoch: 111, Loss: 0.743445\n",
            "Epoch: 112, Loss: 0.231890\n",
            "Epoch: 113, Loss: 0.761168\n",
            "Epoch: 114, Loss: 0.729521\n",
            "Epoch: 115, Loss: 0.508001\n",
            "Epoch: 116, Loss: 0.481892\n",
            "Epoch: 117, Loss: 0.425660\n",
            "Epoch: 118, Loss: 0.493841\n",
            "Epoch: 119, Loss: 0.232314\n",
            "Epoch: 120, Loss: 0.563952\n",
            "Epoch: 121, Loss: 0.378136\n",
            "Epoch: 122, Loss: 0.741829\n",
            "Epoch: 123, Loss: 0.515470\n",
            "Epoch: 124, Loss: 0.274547\n",
            "Epoch: 125, Loss: 0.355533\n",
            "Epoch: 126, Loss: 0.187323\n",
            "Epoch: 127, Loss: 0.573579\n",
            "Epoch: 128, Loss: 0.540879\n",
            "Epoch: 129, Loss: 1.037601\n",
            "Epoch: 130, Loss: 0.612478\n",
            "Epoch: 131, Loss: 0.842163\n",
            "Epoch: 132, Loss: 0.429418\n",
            "Epoch: 133, Loss: 1.138260\n",
            "Epoch: 134, Loss: 0.621828\n",
            "Epoch: 135, Loss: 0.531976\n",
            "Epoch: 136, Loss: 0.371266\n",
            "Epoch: 137, Loss: 0.376345\n",
            "Epoch: 138, Loss: 0.605312\n",
            "Epoch: 139, Loss: 0.992835\n",
            "Epoch: 140, Loss: 0.557489\n",
            "Epoch: 141, Loss: 0.667454\n",
            "Epoch: 142, Loss: 0.799015\n",
            "Epoch: 143, Loss: 0.618220\n",
            "Epoch: 144, Loss: 0.617208\n",
            "Epoch: 145, Loss: 0.546680\n",
            "Epoch: 146, Loss: 0.443525\n",
            "Epoch: 147, Loss: 0.524242\n",
            "Epoch: 148, Loss: 0.443278\n",
            "Epoch: 149, Loss: 1.117697\n",
            "Epoch: 150, Loss: 0.251454\n",
            "Epoch: 151, Loss: 0.772632\n",
            "Epoch: 152, Loss: 0.528361\n",
            "Epoch: 153, Loss: 0.697093\n",
            "Epoch: 154, Loss: 0.743009\n",
            "Epoch: 155, Loss: 0.557216\n",
            "Epoch: 156, Loss: 0.520070\n",
            "Epoch: 157, Loss: 0.397028\n",
            "Epoch: 158, Loss: 0.455906\n",
            "Epoch: 159, Loss: 0.526003\n",
            "Epoch: 160, Loss: 0.279000\n",
            "Epoch: 161, Loss: 0.501443\n",
            "Epoch: 162, Loss: 0.551975\n",
            "Epoch: 163, Loss: 0.377460\n",
            "Epoch: 164, Loss: 0.345294\n",
            "Epoch: 165, Loss: 0.396593\n",
            "Epoch: 166, Loss: 0.343571\n",
            "Epoch: 167, Loss: 0.457767\n",
            "Epoch: 168, Loss: 0.393956\n",
            "Epoch: 169, Loss: 1.050932\n",
            "Epoch: 170, Loss: 1.252817\n",
            "Epoch: 171, Loss: 0.267416\n",
            "Epoch: 172, Loss: 0.653474\n",
            "Epoch: 173, Loss: 0.213585\n",
            "Epoch: 174, Loss: 0.425839\n",
            "Epoch: 175, Loss: 0.198822\n",
            "Epoch: 176, Loss: 0.426481\n",
            "Epoch: 177, Loss: 0.735873\n",
            "Epoch: 178, Loss: 0.492256\n",
            "Epoch: 179, Loss: 0.533843\n",
            "Epoch: 180, Loss: 0.206743\n",
            "Epoch: 181, Loss: 0.900810\n",
            "Epoch: 182, Loss: 0.627026\n",
            "Epoch: 183, Loss: 0.407781\n",
            "Epoch: 184, Loss: 0.673141\n",
            "Epoch: 185, Loss: 0.956752\n",
            "Epoch: 186, Loss: 0.573016\n",
            "Epoch: 187, Loss: 0.392009\n",
            "Epoch: 188, Loss: 0.680911\n",
            "Epoch: 189, Loss: 0.439284\n",
            "Epoch: 190, Loss: 0.577723\n",
            "Epoch: 191, Loss: 0.745340\n",
            "Epoch: 192, Loss: 1.155561\n",
            "Epoch: 193, Loss: 0.204835\n",
            "Epoch: 194, Loss: 0.765677\n",
            "Epoch: 195, Loss: 0.189167\n",
            "Epoch: 196, Loss: 0.556812\n",
            "Epoch: 197, Loss: 0.513253\n",
            "Epoch: 198, Loss: 0.210842\n",
            "Epoch: 199, Loss: 0.171842\n",
            "356.926246881485\n"
          ],
          "name": "stdout"
        }
      ]
    },
    {
      "cell_type": "code",
      "metadata": {
        "colab": {
          "base_uri": "https://localhost:8080/"
        },
        "id": "lc9g3z47sq8f",
        "outputId": "e617cf5a-26ad-4df8-8df0-7c1ac1c35415"
      },
      "source": [
        "train_loader = torch.utils.data.DataLoader(cifar2, batch_size=64,\n",
        "                                           shuffle=False)\n",
        "\n",
        "correct = 0\n",
        "total = 0\n",
        "\n",
        "with torch.no_grad():\n",
        "    for imgs, labels in train_loader:\n",
        "        imgs = imgs.to(device=device)\n",
        "        labels = labels.to(device=device)\n",
        "        outputs = model(imgs)\n",
        "        _, predicted = torch.max(outputs, dim=1)\n",
        "        total += labels.shape[0]\n",
        "        correct += int((predicted == labels).sum())\n",
        "        \n",
        "print(\"Accuracy: %f\" % (correct / total))"
      ],
      "execution_count": 126,
      "outputs": [
        {
          "output_type": "stream",
          "text": [
            "Accuracy: 0.833980\n"
          ],
          "name": "stdout"
        }
      ]
    },
    {
      "cell_type": "code",
      "metadata": {
        "colab": {
          "base_uri": "https://localhost:8080/"
        },
        "id": "WQdmdFbLX9Is",
        "outputId": "025d5d53-b9d4-49ff-87fa-2f842e549215"
      },
      "source": [
        "val_loader = torch.utils.data.DataLoader(cifar2_val, batch_size=64,\n",
        "                                         shuffle=False)\n",
        "\n",
        "correct = 0\n",
        "total = 0\n",
        "\n",
        "with torch.no_grad():\n",
        "    for imgs, labels in val_loader:\n",
        "        imgs = imgs.to(device=device)\n",
        "        labels = labels.to(device=device)\n",
        "        outputs = model(imgs)\n",
        "        _, predicted = torch.max(outputs, dim=1)\n",
        "        total += labels.shape[0]\n",
        "        correct += int((predicted == labels).sum())\n",
        "        \n",
        "print(\"Accuracy: %f\" % (correct / total))"
      ],
      "execution_count": 127,
      "outputs": [
        {
          "output_type": "stream",
          "text": [
            "Accuracy: 0.682800\n"
          ],
          "name": "stdout"
        }
      ]
    },
    {
      "cell_type": "code",
      "metadata": {
        "colab": {
          "base_uri": "https://localhost:8080/"
        },
        "id": "BU1af8UBYRtt",
        "outputId": "f467f588-5ae4-4cb4-ffd0-2483a178ab54"
      },
      "source": [
        "import torch\n",
        "import torch.nn as nn\n",
        "import torch.nn.functional as F\n",
        "\n",
        "class Net(nn.Module):\n",
        "    def __init__(self):\n",
        "        super(Net, self).__init__()\n",
        "        self.conv1 = nn.Conv2d(3, 32, kernel_size=3, padding=1)\n",
        "        self.conv2 = nn.Conv2d(32, 16, kernel_size=3, padding=1)\n",
        "        self.conv3 = nn.Conv2d(16, 16, kernel_size=3, padding=1)\n",
        "        self.fc1 = nn.Linear( 4* 4 * 16, 32)\n",
        "        self.fc2 = nn.Linear(32, 11)\n",
        "        \n",
        "    def forward(self, x):\n",
        "        out = F.max_pool2d(torch.relu(self.conv1(x)), 2)\n",
        "        out = F.max_pool2d(torch.relu(self.conv2(out)), 2)\n",
        "        out = F.max_pool2d(torch.relu(self.conv3(out)), 2)\n",
        "        \n",
        "        out = out.view(-1, 4 * 4* 16)\n",
        "        out = torch.tanh(self.fc1(out))\n",
        "        out = self.fc2(out)\n",
        "        return out\n",
        "    \n",
        "model = Net()\n",
        "sum([p.numel() for p in model.parameters()])\n"
      ],
      "execution_count": 128,
      "outputs": [
        {
          "output_type": "execute_result",
          "data": {
            "text/plain": [
              "16427"
            ]
          },
          "metadata": {
            "tags": []
          },
          "execution_count": 128
        }
      ]
    }
  ]
}