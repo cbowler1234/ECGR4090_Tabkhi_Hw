{
  "nbformat": 4,
  "nbformat_minor": 0,
  "metadata": {
    "colab": {
      "name": "Hw2 Code",
      "provenance": [],
      "collapsed_sections": [],
      "mount_file_id": "1_8MTM1N_xn58vbQ9CqJ04-MN-A-tFrHn",
      "authorship_tag": "ABX9TyOJcUebuH/5QpEY55pjfPj5",
      "include_colab_link": true
    },
    "kernelspec": {
      "name": "python3",
      "display_name": "Python 3"
    }
  },
  "cells": [
    {
      "cell_type": "markdown",
      "metadata": {
        "id": "view-in-github",
        "colab_type": "text"
      },
      "source": [
        "<a href=\"https://colab.research.google.com/github/cbowler1234/ECGR4090_Tabkhi_Hw/blob/main/Hw2/Hw2_Code.ipynb\" target=\"_parent\"><img src=\"https://colab.research.google.com/assets/colab-badge.svg\" alt=\"Open In Colab\"/></a>"
      ]
    },
    {
      "cell_type": "code",
      "metadata": {
        "id": "9Jh9a4J-Pleq"
      },
      "source": [
        "import torch\r\n",
        "import numpy as np\r\n"
      ],
      "execution_count": 141,
      "outputs": []
    },
    {
      "cell_type": "code",
      "metadata": {
        "colab": {
          "base_uri": "https://localhost:8080/"
        },
        "id": "QqjCkNhrPrvb",
        "outputId": "0f97f197-ba65-4737-c201-05b4a119000d"
      },
      "source": [
        "temp=torch.tensor(list(range(9)))\r\n",
        "print(temp)"
      ],
      "execution_count": 142,
      "outputs": [
        {
          "output_type": "stream",
          "text": [
            "tensor([0, 1, 2, 3, 4, 5, 6, 7, 8])\n"
          ],
          "name": "stdout"
        }
      ]
    },
    {
      "cell_type": "code",
      "metadata": {
        "colab": {
          "base_uri": "https://localhost:8080/"
        },
        "id": "3jSB2jrBQ1KV",
        "outputId": "3197b1c7-b416-4bd0-975c-e72f1546bc3a"
      },
      "source": [
        "new_temp=torch.sqrt(temp)\r\n",
        "new_temp"
      ],
      "execution_count": 143,
      "outputs": [
        {
          "output_type": "execute_result",
          "data": {
            "text/plain": [
              "tensor([0.0000, 1.0000, 1.4142, 1.7321, 2.0000, 2.2361, 2.4495, 2.6458, 2.8284])"
            ]
          },
          "metadata": {
            "tags": []
          },
          "execution_count": 143
        }
      ]
    },
    {
      "cell_type": "code",
      "metadata": {
        "colab": {
          "base_uri": "https://localhost:8080/"
        },
        "id": "-VL5GjtWRUGB",
        "outputId": "80d2a4eb-91b1-4bc6-f233-435108e82fea"
      },
      "source": [
        "new_temp2=torch.cos(temp)\r\n",
        "new_temp2"
      ],
      "execution_count": 144,
      "outputs": [
        {
          "output_type": "execute_result",
          "data": {
            "text/plain": [
              "tensor([ 1.0000,  0.5403, -0.4161, -0.9900, -0.6536,  0.2837,  0.9602,  0.7539,\n",
              "        -0.1455])"
            ]
          },
          "metadata": {
            "tags": []
          },
          "execution_count": 144
        }
      ]
    },
    {
      "cell_type": "code",
      "metadata": {
        "id": "EC5mPxLwa8Bb"
      },
      "source": [
        "\r\n",
        "import imageio\r\n",
        "\r\n",
        "RGB_Green= imageio.imread(\"/content/drive/MyDrive/Hw2 images/RGB_Green.jpg\")\r\n",
        "RGB_Blue= imageio.imread(\"/content/drive/MyDrive/Hw2 images/RGB_Blue.jpg\")\r\n",
        "RGB_Red= imageio.imread(\"/content/drive/MyDrive/Hw2 images/RGB_Red.jpg\")\r\n"
      ],
      "execution_count": 145,
      "outputs": []
    },
    {
      "cell_type": "code",
      "metadata": {
        "colab": {
          "base_uri": "https://localhost:8080/"
        },
        "id": "AST3j33xbra-",
        "outputId": "30bb9b07-ad55-4f57-e305-f77a8528db2d"
      },
      "source": [
        "RGB_Green"
      ],
      "execution_count": 146,
      "outputs": [
        {
          "output_type": "execute_result",
          "data": {
            "text/plain": [
              "Array([[[ 52,  54,  49],\n",
              "        [ 48,  50,  45],\n",
              "        [ 48,  50,  45],\n",
              "        ...,\n",
              "        [ 28,  36,  23],\n",
              "        [ 30,  38,  25],\n",
              "        [ 28,  36,  23]],\n",
              "\n",
              "       [[ 50,  52,  47],\n",
              "        [ 48,  50,  45],\n",
              "        [ 51,  53,  48],\n",
              "        ...,\n",
              "        [ 27,  35,  22],\n",
              "        [ 35,  43,  30],\n",
              "        [ 35,  43,  30]],\n",
              "\n",
              "       [[ 51,  53,  48],\n",
              "        [ 51,  53,  48],\n",
              "        [ 49,  51,  46],\n",
              "        ...,\n",
              "        [ 29,  37,  24],\n",
              "        [ 35,  43,  30],\n",
              "        [ 32,  40,  27]],\n",
              "\n",
              "       ...,\n",
              "\n",
              "       [[ 46,  43,  36],\n",
              "        [ 42,  39,  32],\n",
              "        [ 52,  49,  42],\n",
              "        ...,\n",
              "        [ 99,  52,  26],\n",
              "        [100,  53,  27],\n",
              "        [ 96,  49,  23]],\n",
              "\n",
              "       [[ 45,  42,  35],\n",
              "        [ 38,  35,  28],\n",
              "        [ 49,  46,  39],\n",
              "        ...,\n",
              "        [108,  61,  35],\n",
              "        [106,  59,  33],\n",
              "        [ 95,  48,  22]],\n",
              "\n",
              "       [[ 48,  45,  38],\n",
              "        [ 35,  32,  25],\n",
              "        [ 42,  39,  32],\n",
              "        ...,\n",
              "        [109,  62,  36],\n",
              "        [105,  58,  32],\n",
              "        [102,  55,  29]]], dtype=uint8)"
            ]
          },
          "metadata": {
            "tags": []
          },
          "execution_count": 146
        }
      ]
    },
    {
      "cell_type": "code",
      "metadata": {
        "colab": {
          "base_uri": "https://localhost:8080/"
        },
        "id": "_Mf02cZ2btt9",
        "outputId": "8bde0fae-da00-4161-d222-3114668f7cc0"
      },
      "source": [
        "RGB_Blue"
      ],
      "execution_count": 147,
      "outputs": [
        {
          "output_type": "execute_result",
          "data": {
            "text/plain": [
              "Array([[[204, 140,  92],\n",
              "        [206, 140,  92],\n",
              "        [208, 142,  94],\n",
              "        ...,\n",
              "        [ 93,  44,  27],\n",
              "        [ 88,  39,  22],\n",
              "        [ 89,  38,  21]],\n",
              "\n",
              "       [[210, 144,  96],\n",
              "        [213, 147,  99],\n",
              "        [215, 149, 101],\n",
              "        ...,\n",
              "        [ 81,  32,  15],\n",
              "        [ 84,  35,  18],\n",
              "        [ 84,  35,  18]],\n",
              "\n",
              "       [[210, 144,  96],\n",
              "        [209, 143,  95],\n",
              "        [210, 144,  96],\n",
              "        ...,\n",
              "        [ 74,  27,   9],\n",
              "        [ 84,  37,  19],\n",
              "        [ 87,  40,  22]],\n",
              "\n",
              "       ...,\n",
              "\n",
              "       [[208, 143, 105],\n",
              "        [215, 150, 112],\n",
              "        [211, 143, 104],\n",
              "        ...,\n",
              "        [170, 109,  80],\n",
              "        [175, 114,  85],\n",
              "        [180, 119,  90]],\n",
              "\n",
              "       [[207, 142, 104],\n",
              "        [215, 147, 110],\n",
              "        [209, 141, 102],\n",
              "        ...,\n",
              "        [175, 114,  85],\n",
              "        [168, 107,  78],\n",
              "        [162, 101,  72]],\n",
              "\n",
              "       [[209, 144, 106],\n",
              "        [212, 144, 107],\n",
              "        [205, 137,  98],\n",
              "        ...,\n",
              "        [180, 119,  90],\n",
              "        [176, 115,  86],\n",
              "        [166, 105,  76]]], dtype=uint8)"
            ]
          },
          "metadata": {
            "tags": []
          },
          "execution_count": 147
        }
      ]
    },
    {
      "cell_type": "code",
      "metadata": {
        "colab": {
          "base_uri": "https://localhost:8080/"
        },
        "id": "7jlshZzzbt29",
        "outputId": "877f2149-8bd3-4b29-9201-b245aa9cf6c3"
      },
      "source": [
        "RGB_Red"
      ],
      "execution_count": 148,
      "outputs": [
        {
          "output_type": "execute_result",
          "data": {
            "text/plain": [
              "Array([[[ 34,  44,  46],\n",
              "        [ 33,  43,  45],\n",
              "        [ 37,  47,  49],\n",
              "        ...,\n",
              "        [ 23,  34,  40],\n",
              "        [ 21,  32,  38],\n",
              "        [ 17,  28,  34]],\n",
              "\n",
              "       [[ 32,  42,  44],\n",
              "        [ 29,  39,  41],\n",
              "        [ 24,  34,  36],\n",
              "        ...,\n",
              "        [ 10,  21,  27],\n",
              "        [ 23,  34,  40],\n",
              "        [ 22,  33,  39]],\n",
              "\n",
              "       [[ 35,  45,  47],\n",
              "        [ 25,  35,  37],\n",
              "        [ 21,  31,  33],\n",
              "        ...,\n",
              "        [ 10,  21,  27],\n",
              "        [ 18,  29,  35],\n",
              "        [ 12,  23,  29]],\n",
              "\n",
              "       ...,\n",
              "\n",
              "       [[208, 200, 181],\n",
              "        [204, 196, 177],\n",
              "        [201, 193, 174],\n",
              "        ...,\n",
              "        [ 87,  85,  62],\n",
              "        [ 79,  75,  40],\n",
              "        [ 79,  75,  30]],\n",
              "\n",
              "       [[205, 197, 178],\n",
              "        [204, 196, 177],\n",
              "        [203, 195, 176],\n",
              "        ...,\n",
              "        [ 84,  80,  45],\n",
              "        [ 70,  67,  14],\n",
              "        [ 82,  77,  13]],\n",
              "\n",
              "       [[206, 198, 179],\n",
              "        [206, 198, 179],\n",
              "        [206, 198, 179],\n",
              "        ...,\n",
              "        [ 87,  82,  40],\n",
              "        [ 80,  76,  12],\n",
              "        [ 95,  89,  13]]], dtype=uint8)"
            ]
          },
          "metadata": {
            "tags": []
          },
          "execution_count": 148
        }
      ]
    },
    {
      "cell_type": "code",
      "metadata": {
        "colab": {
          "base_uri": "https://localhost:8080/"
        },
        "id": "TvQxaIf-dzkv",
        "outputId": "4358528b-18b5-4b6f-dd0c-63de0941d538"
      },
      "source": [
        "RGB_Blue.shape"
      ],
      "execution_count": 149,
      "outputs": [
        {
          "output_type": "execute_result",
          "data": {
            "text/plain": [
              "(4032, 3024, 3)"
            ]
          },
          "metadata": {
            "tags": []
          },
          "execution_count": 149
        }
      ]
    },
    {
      "cell_type": "code",
      "metadata": {
        "colab": {
          "base_uri": "https://localhost:8080/"
        },
        "id": "vzpxOaesfvfb",
        "outputId": "431f67b4-98a2-4000-de74-7af765d4d7c2"
      },
      "source": [
        "RGB_Red.shape"
      ],
      "execution_count": 150,
      "outputs": [
        {
          "output_type": "execute_result",
          "data": {
            "text/plain": [
              "(4032, 3024, 3)"
            ]
          },
          "metadata": {
            "tags": []
          },
          "execution_count": 150
        }
      ]
    },
    {
      "cell_type": "code",
      "metadata": {
        "colab": {
          "base_uri": "https://localhost:8080/"
        },
        "id": "iNKHHLFTfvmr",
        "outputId": "e0da6905-cdc6-4579-8dec-628c08295a3f"
      },
      "source": [
        "RGB_Green.shape"
      ],
      "execution_count": 151,
      "outputs": [
        {
          "output_type": "execute_result",
          "data": {
            "text/plain": [
              "(4032, 3024, 3)"
            ]
          },
          "metadata": {
            "tags": []
          },
          "execution_count": 151
        }
      ]
    },
    {
      "cell_type": "code",
      "metadata": {
        "id": "TnKBNtDegC2f"
      },
      "source": [
        "img_Red= torch.from_numpy(RGB_Red.copy())\r\n",
        "out_Red = img_Red.permute(2, 0, 1)\r\n",
        "\r\n",
        "\r\n",
        "img_Blue= torch.from_numpy(RGB_Blue.copy())\r\n",
        "out_Blue = img_Blue.permute(2, 0, 1)\r\n",
        "\r\n",
        "\r\n",
        "img_Green= torch.from_numpy(RGB_Green.copy())\r\n",
        "out_Green = img_Green.permute(2, 0, 1)\r\n"
      ],
      "execution_count": 152,
      "outputs": []
    },
    {
      "cell_type": "code",
      "metadata": {
        "id": "VFAeEjMPt_-t"
      },
      "source": [
        "out_Red=out_Red*1.0\r\n",
        "out_Blue=out_Blue*1.0\r\n",
        "out_Green=out_Green*1.0\r\n"
      ],
      "execution_count": 153,
      "outputs": []
    },
    {
      "cell_type": "code",
      "metadata": {
        "id": "VZ0Hpl-nnBl7"
      },
      "source": [
        "out_Red_mean=(out_Red).mean()\r\n",
        "out_Blue_mean=(out_Blue).mean()\r\n",
        "out_Green_mean=(out_Green).mean()\r\n"
      ],
      "execution_count": 154,
      "outputs": []
    },
    {
      "cell_type": "code",
      "metadata": {
        "colab": {
          "base_uri": "https://localhost:8080/"
        },
        "id": "0brgRGxfvbVS",
        "outputId": "3892d06e-f377-496e-fbe5-b67996b20f18"
      },
      "source": [
        "out_Red_mean"
      ],
      "execution_count": 155,
      "outputs": [
        {
          "output_type": "execute_result",
          "data": {
            "text/plain": [
              "tensor(107.1859)"
            ]
          },
          "metadata": {
            "tags": []
          },
          "execution_count": 155
        }
      ]
    },
    {
      "cell_type": "code",
      "metadata": {
        "colab": {
          "base_uri": "https://localhost:8080/"
        },
        "id": "-8p7vxEevcF1",
        "outputId": "04e19484-3bc0-4e1d-bc97-b7105116f879"
      },
      "source": [
        "out_Blue_mean"
      ],
      "execution_count": 156,
      "outputs": [
        {
          "output_type": "execute_result",
          "data": {
            "text/plain": [
              "tensor(143.7254)"
            ]
          },
          "metadata": {
            "tags": []
          },
          "execution_count": 156
        }
      ]
    },
    {
      "cell_type": "code",
      "metadata": {
        "colab": {
          "base_uri": "https://localhost:8080/"
        },
        "id": "_lixKdwAvbXr",
        "outputId": "53d1c120-0f48-4284-df30-1047a34d0a3b"
      },
      "source": [
        "out_Green_mean"
      ],
      "execution_count": 157,
      "outputs": [
        {
          "output_type": "execute_result",
          "data": {
            "text/plain": [
              "tensor(72.6740)"
            ]
          },
          "metadata": {
            "tags": []
          },
          "execution_count": 157
        }
      ]
    },
    {
      "cell_type": "code",
      "metadata": {
        "id": "AwuTBCpsqkpO"
      },
      "source": [
        "RedChannel_mean_Red = out_Red[0, :,:].mean();\r\n",
        "GreenChannel_mean_Red = out_Red[1, :,:].mean();\r\n",
        "BlueChannel_mean_Red = out_Red[2, :,:].mean();\r\n",
        "RedChannel_mean_Red=\"{:.3f}\".format(RedChannel_mean_Red)\r\n",
        "GreenChannel_mean_Red = \"{:.3f}\".format(GreenChannel_mean_Red)\r\n",
        "BlueChannel_mean_Red=\"{:.3f}\".format(BlueChannel_mean_Red)\r\n",
        "\r\n",
        "\r\n",
        "\r\n"
      ],
      "execution_count": 158,
      "outputs": []
    },
    {
      "cell_type": "code",
      "metadata": {
        "id": "9x-c9T9FzAnz"
      },
      "source": [
        "RedChannel_mean_Blue = out_Blue[0, :,:].mean();\r\n",
        "GreenChannel_mean_Blue = out_Blue[1, :,:].mean();\r\n",
        "BlueChannel_mean_Blue = out_Blue[2, :,:].mean();\r\n",
        "RedChannel_mean_Blue=\"{:.3f}\".format(RedChannel_mean_Blue)\r\n",
        "GreenChannel_mean_Blue = \"{:.3f}\".format(GreenChannel_mean_Blue)\r\n",
        "BlueChannel_mean_Blue=\"{:.3f}\".format(BlueChannel_mean_Blue)\r\n"
      ],
      "execution_count": 159,
      "outputs": []
    },
    {
      "cell_type": "code",
      "metadata": {
        "id": "mVWirHH4zAwE"
      },
      "source": [
        "RedChannel_mean_Green = out_Green[0, :,:].mean();\r\n",
        "GreenChannel_mean_Green = out_Green[1, :,:].mean();\r\n",
        "BlueChannel_mean_Green = out_Green[2, :,:].mean();\r\n",
        "RedChannel_mean_Green=\"{:.3f}\".format(RedChannel_mean_Green)\r\n",
        "GreenChannel_mean_Green = \"{:.3f}\".format(GreenChannel_mean_Green)\r\n",
        "BlueChannel_mean_Green=\"{:.3f}\".format(BlueChannel_mean_Green)\r\n"
      ],
      "execution_count": 160,
      "outputs": []
    },
    {
      "cell_type": "code",
      "metadata": {
        "colab": {
          "base_uri": "https://localhost:8080/"
        },
        "id": "U8WMC1UJudZV",
        "outputId": "ff25b69d-a031-4e85-aa28-02b4a8c49dd6"
      },
      "source": [
        "print(f\"Red Image mean RGB values {RedChannel_mean_Red}, {GreenChannel_mean_Red}, {BlueChannel_mean_Red}\")\r\n"
      ],
      "execution_count": 161,
      "outputs": [
        {
          "output_type": "stream",
          "text": [
            "Red Image mean RGB values 149.722, 90.172, 81.664\n"
          ],
          "name": "stdout"
        }
      ]
    },
    {
      "cell_type": "code",
      "metadata": {
        "colab": {
          "base_uri": "https://localhost:8080/"
        },
        "id": "KKpAJpZruIk-",
        "outputId": "f7547332-9732-4eff-dff1-59e1f6c2edec"
      },
      "source": [
        "print(f\"Blue Image mean RGB values {RedChannel_mean_Blue}, {GreenChannel_mean_Blue}, {BlueChannel_mean_Blue}\")"
      ],
      "execution_count": 162,
      "outputs": [
        {
          "output_type": "stream",
          "text": [
            "Blue Image mean RGB values 157.153, 146.281, 127.743\n"
          ],
          "name": "stdout"
        }
      ]
    },
    {
      "cell_type": "code",
      "metadata": {
        "colab": {
          "base_uri": "https://localhost:8080/"
        },
        "id": "jqS4v32evpYg",
        "outputId": "b62986fc-aac0-4114-fb6b-ebc1a0513797"
      },
      "source": [
        "print(f\"Green Image mean RGB values {RedChannel_mean_Green}, {GreenChannel_mean_Green}, {BlueChannel_mean_Green}\")"
      ],
      "execution_count": 163,
      "outputs": [
        {
          "output_type": "stream",
          "text": [
            "Green Image mean RGB values 81.909, 100.762, 35.351\n"
          ],
          "name": "stdout"
        }
      ]
    }
  ]
}