{
  "nbformat": 4,
  "nbformat_minor": 0,
  "metadata": {
    "colab": {
      "name": "Hw2 Code",
      "provenance": [],
      "collapsed_sections": [],
      "mount_file_id": "1_8MTM1N_xn58vbQ9CqJ04-MN-A-tFrHn",
      "authorship_tag": "ABX9TyN9Tjg+87ViDctmq9JKNJJG",
      "include_colab_link": true
    },
    "kernelspec": {
      "name": "python3",
      "display_name": "Python 3"
    }
  },
  "cells": [
    {
      "cell_type": "markdown",
      "metadata": {
        "id": "view-in-github",
        "colab_type": "text"
      },
      "source": [
        "<a href=\"https://colab.research.google.com/github/cbowler1234/ECGR4090_Tabkhi_Hw/blob/main/Hw2/Hw2_Code.ipynb\" target=\"_parent\"><img src=\"https://colab.research.google.com/assets/colab-badge.svg\" alt=\"Open In Colab\"/></a>"
      ]
    },
    {
      "cell_type": "code",
      "metadata": {
        "id": "9Jh9a4J-Pleq"
      },
      "source": [
        "import torch\r\n",
        "import numpy as np\r\n"
      ],
      "execution_count": 141,
      "outputs": []
    },
    {
      "cell_type": "code",
      "metadata": {
        "colab": {
          "base_uri": "https://localhost:8080/"
        },
        "id": "QqjCkNhrPrvb",
        "outputId": "c31e6722-6553-4593-f37a-b92f1132aa57"
      },
      "source": [
        "temp=torch.tensor(list(range(9)))\r\n",
        "temp=temp.type(torch.FloatTensor)\r\n",
        "stride=temp.stride()\r\n",
        "size=temp.size()\r\n",
        "offset=temp.storage_offset()\r\n",
        "print(f\"{temp}, stride = {stride}, size = {size}, offset = {offset}\")"
      ],
      "execution_count": 184,
      "outputs": [
        {
          "output_type": "stream",
          "text": [
            "tensor([0., 1., 2., 3., 4., 5., 6., 7., 8.]), stride = (1,), size = torch.Size([9]), offset = 0\n"
          ],
          "name": "stdout"
        }
      ]
    },
    {
      "cell_type": "code",
      "metadata": {
        "colab": {
          "base_uri": "https://localhost:8080/"
        },
        "id": "3jSB2jrBQ1KV",
        "outputId": "62be40e1-9afa-4414-8f75-ed2a43acfabb"
      },
      "source": [
        "new_temp=torch.sqrt(temp)\r\n",
        "new_temp\r\n"
      ],
      "execution_count": 178,
      "outputs": [
        {
          "output_type": "execute_result",
          "data": {
            "text/plain": [
              "tensor([0.0000, 1.0000, 1.4142, 1.7321, 2.0000, 2.2361, 2.4495, 2.6458, 2.8284])"
            ]
          },
          "metadata": {
            "tags": []
          },
          "execution_count": 178
        }
      ]
    },
    {
      "cell_type": "code",
      "metadata": {
        "colab": {
          "base_uri": "https://localhost:8080/"
        },
        "id": "bAEfnavvvxib",
        "outputId": "7ac9bcdc-cdd6-407a-be1c-a267415f8a00"
      },
      "source": [
        "print(f'{temp.type()}')"
      ],
      "execution_count": 186,
      "outputs": [
        {
          "output_type": "stream",
          "text": [
            "torch.FloatTensor\n"
          ],
          "name": "stdout"
        }
      ]
    },
    {
      "cell_type": "code",
      "metadata": {
        "colab": {
          "base_uri": "https://localhost:8080/"
        },
        "id": "-VL5GjtWRUGB",
        "outputId": "78d8a26a-11ef-4236-fb52-71a6ba89a893"
      },
      "source": [
        "new_temp2=torch.cos(temp)\r\n",
        "new_temp2"
      ],
      "execution_count": 185,
      "outputs": [
        {
          "output_type": "execute_result",
          "data": {
            "text/plain": [
              "tensor([ 1.0000,  0.5403, -0.4161, -0.9900, -0.6536,  0.2837,  0.9602,  0.7539,\n",
              "        -0.1455])"
            ]
          },
          "metadata": {
            "tags": []
          },
          "execution_count": 185
        }
      ]
    },
    {
      "cell_type": "code",
      "metadata": {
        "id": "EC5mPxLwa8Bb"
      },
      "source": [
        "\r\n",
        "import imageio\r\n",
        "\r\n",
        "RGB_Green= imageio.imread(\"/content/drive/MyDrive/Hw2 images/RGB_Green.jpg\")\r\n",
        "RGB_Blue= imageio.imread(\"/content/drive/MyDrive/Hw2 images/RGB_Blue.jpg\")\r\n",
        "RGB_Red= imageio.imread(\"/content/drive/MyDrive/Hw2 images/RGB_Red.jpg\")\r\n",
        "RGB_Green2= imageio.imread(\"/content/drive/MyDrive/Hw2 images/RGB_Green2.jpg\")\r\n",
        "RGB_Blue2= imageio.imread(\"/content/drive/MyDrive/Hw2 images/RGB_Blue2.jpg\")\r\n",
        "RGB_Red2= imageio.imread(\"/content/drive/MyDrive/Hw2 images/RGB_Red2.jpg\")"
      ],
      "execution_count": 187,
      "outputs": []
    },
    {
      "cell_type": "code",
      "metadata": {
        "colab": {
          "base_uri": "https://localhost:8080/"
        },
        "id": "AST3j33xbra-",
        "outputId": "30bb9b07-ad55-4f57-e305-f77a8528db2d"
      },
      "source": [
        "RGB_Green"
      ],
      "execution_count": 146,
      "outputs": [
        {
          "output_type": "execute_result",
          "data": {
            "text/plain": [
              "Array([[[ 52,  54,  49],\n",
              "        [ 48,  50,  45],\n",
              "        [ 48,  50,  45],\n",
              "        ...,\n",
              "        [ 28,  36,  23],\n",
              "        [ 30,  38,  25],\n",
              "        [ 28,  36,  23]],\n",
              "\n",
              "       [[ 50,  52,  47],\n",
              "        [ 48,  50,  45],\n",
              "        [ 51,  53,  48],\n",
              "        ...,\n",
              "        [ 27,  35,  22],\n",
              "        [ 35,  43,  30],\n",
              "        [ 35,  43,  30]],\n",
              "\n",
              "       [[ 51,  53,  48],\n",
              "        [ 51,  53,  48],\n",
              "        [ 49,  51,  46],\n",
              "        ...,\n",
              "        [ 29,  37,  24],\n",
              "        [ 35,  43,  30],\n",
              "        [ 32,  40,  27]],\n",
              "\n",
              "       ...,\n",
              "\n",
              "       [[ 46,  43,  36],\n",
              "        [ 42,  39,  32],\n",
              "        [ 52,  49,  42],\n",
              "        ...,\n",
              "        [ 99,  52,  26],\n",
              "        [100,  53,  27],\n",
              "        [ 96,  49,  23]],\n",
              "\n",
              "       [[ 45,  42,  35],\n",
              "        [ 38,  35,  28],\n",
              "        [ 49,  46,  39],\n",
              "        ...,\n",
              "        [108,  61,  35],\n",
              "        [106,  59,  33],\n",
              "        [ 95,  48,  22]],\n",
              "\n",
              "       [[ 48,  45,  38],\n",
              "        [ 35,  32,  25],\n",
              "        [ 42,  39,  32],\n",
              "        ...,\n",
              "        [109,  62,  36],\n",
              "        [105,  58,  32],\n",
              "        [102,  55,  29]]], dtype=uint8)"
            ]
          },
          "metadata": {
            "tags": []
          },
          "execution_count": 146
        }
      ]
    },
    {
      "cell_type": "code",
      "metadata": {
        "colab": {
          "base_uri": "https://localhost:8080/"
        },
        "id": "oNFpGJkq5dom",
        "outputId": "2d2c5f64-be51-4e46-cb73-439d424b5335"
      },
      "source": [
        "RGB_Green2"
      ],
      "execution_count": 188,
      "outputs": [
        {
          "output_type": "execute_result",
          "data": {
            "text/plain": [
              "Array([[[16, 16, 16],\n",
              "        [16, 16, 16],\n",
              "        [17, 17, 17],\n",
              "        ...,\n",
              "        [12, 12, 12],\n",
              "        [11, 11, 11],\n",
              "        [13, 13, 13]],\n",
              "\n",
              "       [[17, 17, 17],\n",
              "        [17, 17, 17],\n",
              "        [17, 17, 17],\n",
              "        ...,\n",
              "        [14, 14, 14],\n",
              "        [14, 14, 14],\n",
              "        [14, 14, 14]],\n",
              "\n",
              "       [[18, 18, 18],\n",
              "        [17, 17, 17],\n",
              "        [16, 16, 16],\n",
              "        ...,\n",
              "        [15, 15, 15],\n",
              "        [15, 15, 15],\n",
              "        [15, 15, 15]],\n",
              "\n",
              "       ...,\n",
              "\n",
              "       [[77, 78, 82],\n",
              "        [82, 83, 87],\n",
              "        [80, 81, 85],\n",
              "        ...,\n",
              "        [66, 72, 70],\n",
              "        [67, 73, 71],\n",
              "        [67, 73, 71]],\n",
              "\n",
              "       [[77, 78, 82],\n",
              "        [81, 82, 86],\n",
              "        [79, 80, 84],\n",
              "        ...,\n",
              "        [68, 74, 72],\n",
              "        [68, 74, 72],\n",
              "        [69, 75, 73]],\n",
              "\n",
              "       [[77, 78, 82],\n",
              "        [80, 81, 85],\n",
              "        [78, 79, 83],\n",
              "        ...,\n",
              "        [66, 72, 70],\n",
              "        [66, 72, 70],\n",
              "        [67, 73, 71]]], dtype=uint8)"
            ]
          },
          "metadata": {
            "tags": []
          },
          "execution_count": 188
        }
      ]
    },
    {
      "cell_type": "code",
      "metadata": {
        "colab": {
          "base_uri": "https://localhost:8080/"
        },
        "id": "_Mf02cZ2btt9",
        "outputId": "8bde0fae-da00-4161-d222-3114668f7cc0"
      },
      "source": [
        "RGB_Blue"
      ],
      "execution_count": 147,
      "outputs": [
        {
          "output_type": "execute_result",
          "data": {
            "text/plain": [
              "Array([[[204, 140,  92],\n",
              "        [206, 140,  92],\n",
              "        [208, 142,  94],\n",
              "        ...,\n",
              "        [ 93,  44,  27],\n",
              "        [ 88,  39,  22],\n",
              "        [ 89,  38,  21]],\n",
              "\n",
              "       [[210, 144,  96],\n",
              "        [213, 147,  99],\n",
              "        [215, 149, 101],\n",
              "        ...,\n",
              "        [ 81,  32,  15],\n",
              "        [ 84,  35,  18],\n",
              "        [ 84,  35,  18]],\n",
              "\n",
              "       [[210, 144,  96],\n",
              "        [209, 143,  95],\n",
              "        [210, 144,  96],\n",
              "        ...,\n",
              "        [ 74,  27,   9],\n",
              "        [ 84,  37,  19],\n",
              "        [ 87,  40,  22]],\n",
              "\n",
              "       ...,\n",
              "\n",
              "       [[208, 143, 105],\n",
              "        [215, 150, 112],\n",
              "        [211, 143, 104],\n",
              "        ...,\n",
              "        [170, 109,  80],\n",
              "        [175, 114,  85],\n",
              "        [180, 119,  90]],\n",
              "\n",
              "       [[207, 142, 104],\n",
              "        [215, 147, 110],\n",
              "        [209, 141, 102],\n",
              "        ...,\n",
              "        [175, 114,  85],\n",
              "        [168, 107,  78],\n",
              "        [162, 101,  72]],\n",
              "\n",
              "       [[209, 144, 106],\n",
              "        [212, 144, 107],\n",
              "        [205, 137,  98],\n",
              "        ...,\n",
              "        [180, 119,  90],\n",
              "        [176, 115,  86],\n",
              "        [166, 105,  76]]], dtype=uint8)"
            ]
          },
          "metadata": {
            "tags": []
          },
          "execution_count": 147
        }
      ]
    },
    {
      "cell_type": "code",
      "metadata": {
        "colab": {
          "base_uri": "https://localhost:8080/"
        },
        "id": "rhAZJCIn5iGG",
        "outputId": "2c6869d1-6eb7-49d8-cc9f-375e7b11c96f"
      },
      "source": [
        "RGB_Blue2"
      ],
      "execution_count": 189,
      "outputs": [
        {
          "output_type": "execute_result",
          "data": {
            "text/plain": [
              "Array([[[ 17,  33,  49],\n",
              "        [ 19,  36,  52],\n",
              "        [ 24,  41,  59],\n",
              "        ...,\n",
              "        [186, 167, 135],\n",
              "        [184, 165, 133],\n",
              "        [185, 166, 134]],\n",
              "\n",
              "       [[ 16,  31,  50],\n",
              "        [ 20,  37,  55],\n",
              "        [ 27,  44,  64],\n",
              "        ...,\n",
              "        [185, 166, 134],\n",
              "        [183, 164, 132],\n",
              "        [183, 164, 132]],\n",
              "\n",
              "       [[ 19,  34,  55],\n",
              "        [ 20,  36,  59],\n",
              "        [ 26,  42,  65],\n",
              "        ...,\n",
              "        [187, 168, 136],\n",
              "        [186, 167, 135],\n",
              "        [186, 167, 135]],\n",
              "\n",
              "       ...,\n",
              "\n",
              "       [[191, 187, 178],\n",
              "        [190, 186, 177],\n",
              "        [190, 186, 177],\n",
              "        ...,\n",
              "        [178, 178, 168],\n",
              "        [178, 178, 168],\n",
              "        [178, 178, 168]],\n",
              "\n",
              "       [[191, 187, 178],\n",
              "        [190, 186, 177],\n",
              "        [192, 188, 179],\n",
              "        ...,\n",
              "        [177, 177, 167],\n",
              "        [177, 177, 167],\n",
              "        [177, 177, 167]],\n",
              "\n",
              "       [[192, 188, 179],\n",
              "        [191, 187, 178],\n",
              "        [192, 188, 179],\n",
              "        ...,\n",
              "        [177, 177, 167],\n",
              "        [177, 177, 167],\n",
              "        [177, 177, 167]]], dtype=uint8)"
            ]
          },
          "metadata": {
            "tags": []
          },
          "execution_count": 189
        }
      ]
    },
    {
      "cell_type": "code",
      "metadata": {
        "colab": {
          "base_uri": "https://localhost:8080/"
        },
        "id": "7jlshZzzbt29",
        "outputId": "877f2149-8bd3-4b29-9201-b245aa9cf6c3"
      },
      "source": [
        "RGB_Red"
      ],
      "execution_count": 148,
      "outputs": [
        {
          "output_type": "execute_result",
          "data": {
            "text/plain": [
              "Array([[[ 34,  44,  46],\n",
              "        [ 33,  43,  45],\n",
              "        [ 37,  47,  49],\n",
              "        ...,\n",
              "        [ 23,  34,  40],\n",
              "        [ 21,  32,  38],\n",
              "        [ 17,  28,  34]],\n",
              "\n",
              "       [[ 32,  42,  44],\n",
              "        [ 29,  39,  41],\n",
              "        [ 24,  34,  36],\n",
              "        ...,\n",
              "        [ 10,  21,  27],\n",
              "        [ 23,  34,  40],\n",
              "        [ 22,  33,  39]],\n",
              "\n",
              "       [[ 35,  45,  47],\n",
              "        [ 25,  35,  37],\n",
              "        [ 21,  31,  33],\n",
              "        ...,\n",
              "        [ 10,  21,  27],\n",
              "        [ 18,  29,  35],\n",
              "        [ 12,  23,  29]],\n",
              "\n",
              "       ...,\n",
              "\n",
              "       [[208, 200, 181],\n",
              "        [204, 196, 177],\n",
              "        [201, 193, 174],\n",
              "        ...,\n",
              "        [ 87,  85,  62],\n",
              "        [ 79,  75,  40],\n",
              "        [ 79,  75,  30]],\n",
              "\n",
              "       [[205, 197, 178],\n",
              "        [204, 196, 177],\n",
              "        [203, 195, 176],\n",
              "        ...,\n",
              "        [ 84,  80,  45],\n",
              "        [ 70,  67,  14],\n",
              "        [ 82,  77,  13]],\n",
              "\n",
              "       [[206, 198, 179],\n",
              "        [206, 198, 179],\n",
              "        [206, 198, 179],\n",
              "        ...,\n",
              "        [ 87,  82,  40],\n",
              "        [ 80,  76,  12],\n",
              "        [ 95,  89,  13]]], dtype=uint8)"
            ]
          },
          "metadata": {
            "tags": []
          },
          "execution_count": 148
        }
      ]
    },
    {
      "cell_type": "code",
      "metadata": {
        "colab": {
          "base_uri": "https://localhost:8080/"
        },
        "id": "BWkxCktE5kd-",
        "outputId": "08b43f9d-9a86-47d2-eb08-ad2356a11713"
      },
      "source": [
        "RGB_Red2"
      ],
      "execution_count": 190,
      "outputs": [
        {
          "output_type": "execute_result",
          "data": {
            "text/plain": [
              "Array([[[ 98,  99,  91],\n",
              "        [ 95,  96,  88],\n",
              "        [103, 104,  96],\n",
              "        ...,\n",
              "        [170, 180, 189],\n",
              "        [171, 181, 190],\n",
              "        [165, 175, 184]],\n",
              "\n",
              "       [[103, 104,  96],\n",
              "        [ 99, 100,  92],\n",
              "        [ 96,  97,  89],\n",
              "        ...,\n",
              "        [165, 175, 184],\n",
              "        [165, 175, 184],\n",
              "        [163, 173, 182]],\n",
              "\n",
              "       [[ 99, 100,  92],\n",
              "        [105, 106,  98],\n",
              "        [101, 102,  94],\n",
              "        ...,\n",
              "        [164, 174, 183],\n",
              "        [163, 173, 182],\n",
              "        [164, 174, 183]],\n",
              "\n",
              "       ...,\n",
              "\n",
              "       [[ 49,  52,  45],\n",
              "        [ 49,  52,  45],\n",
              "        [ 67,  69,  64],\n",
              "        ...,\n",
              "        [ 54,  56,  43],\n",
              "        [ 50,  52,  39],\n",
              "        [ 42,  44,  31]],\n",
              "\n",
              "       [[ 44,  47,  40],\n",
              "        [ 43,  46,  39],\n",
              "        [ 54,  56,  51],\n",
              "        ...,\n",
              "        [ 43,  45,  32],\n",
              "        [ 30,  32,  19],\n",
              "        [ 26,  28,  15]],\n",
              "\n",
              "       [[ 55,  58,  51],\n",
              "        [ 57,  60,  53],\n",
              "        [ 48,  50,  45],\n",
              "        ...,\n",
              "        [ 26,  28,  15],\n",
              "        [ 23,  25,  12],\n",
              "        [ 26,  26,  14]]], dtype=uint8)"
            ]
          },
          "metadata": {
            "tags": []
          },
          "execution_count": 190
        }
      ]
    },
    {
      "cell_type": "code",
      "metadata": {
        "colab": {
          "base_uri": "https://localhost:8080/"
        },
        "id": "TvQxaIf-dzkv",
        "outputId": "621efdb0-11a8-48f0-fbff-4f8e7ebc97a9"
      },
      "source": [
        "RGB_Blue.shape"
      ],
      "execution_count": 191,
      "outputs": [
        {
          "output_type": "execute_result",
          "data": {
            "text/plain": [
              "(4032, 3024, 3)"
            ]
          },
          "metadata": {
            "tags": []
          },
          "execution_count": 191
        }
      ]
    },
    {
      "cell_type": "code",
      "metadata": {
        "colab": {
          "base_uri": "https://localhost:8080/"
        },
        "id": "vzpxOaesfvfb",
        "outputId": "a41d526a-dffa-44ea-c479-1368d8962669"
      },
      "source": [
        "RGB_Red.shape"
      ],
      "execution_count": 192,
      "outputs": [
        {
          "output_type": "execute_result",
          "data": {
            "text/plain": [
              "(4032, 3024, 3)"
            ]
          },
          "metadata": {
            "tags": []
          },
          "execution_count": 192
        }
      ]
    },
    {
      "cell_type": "code",
      "metadata": {
        "colab": {
          "base_uri": "https://localhost:8080/"
        },
        "id": "iNKHHLFTfvmr",
        "outputId": "41bc32a4-bfe9-45a5-838d-2daa82792e99"
      },
      "source": [
        "RGB_Green.shape"
      ],
      "execution_count": 193,
      "outputs": [
        {
          "output_type": "execute_result",
          "data": {
            "text/plain": [
              "(4032, 3024, 3)"
            ]
          },
          "metadata": {
            "tags": []
          },
          "execution_count": 193
        }
      ]
    },
    {
      "cell_type": "code",
      "metadata": {
        "id": "TnKBNtDegC2f"
      },
      "source": [
        "img_Red= torch.from_numpy(RGB_Red.copy())\r\n",
        "out_Red = img_Red.permute(2, 0, 1)\r\n",
        "\r\n",
        "\r\n",
        "img_Blue= torch.from_numpy(RGB_Blue.copy())\r\n",
        "out_Blue = img_Blue.permute(2, 0, 1)\r\n",
        "\r\n",
        "\r\n",
        "img_Green= torch.from_numpy(RGB_Green.copy())\r\n",
        "out_Green = img_Green.permute(2, 0, 1)\r\n",
        "\r\n",
        "img_Red2= torch.from_numpy(RGB_Red2.copy())\r\n",
        "out_Red2 = img_Red2.permute(2, 0, 1)\r\n",
        "\r\n",
        "\r\n",
        "img_Blue2= torch.from_numpy(RGB_Blue2.copy())\r\n",
        "out_Blue2 = img_Blue2.permute(2, 0, 1)\r\n",
        "\r\n",
        "\r\n",
        "img_Green2= torch.from_numpy(RGB_Green2.copy())\r\n",
        "out_Green2 = img_Green2.permute(2, 0, 1)\r\n"
      ],
      "execution_count": 197,
      "outputs": []
    },
    {
      "cell_type": "code",
      "metadata": {
        "id": "VFAeEjMPt_-t"
      },
      "source": [
        "out_Red=out_Red*1.0\r\n",
        "out_Blue=out_Blue*1.0\r\n",
        "out_Green=out_Green*1.0\r\n",
        "out_Red2=out_Red2*1.0\r\n",
        "out_Blue2=out_Blue2*1.0\r\n",
        "out_Green2=out_Green2*1.0\r\n"
      ],
      "execution_count": 198,
      "outputs": []
    },
    {
      "cell_type": "code",
      "metadata": {
        "id": "VZ0Hpl-nnBl7"
      },
      "source": [
        "out_Red_mean=(out_Red).mean()\r\n",
        "out_Blue_mean=(out_Blue).mean()\r\n",
        "out_Green_mean=(out_Green).mean()\r\n",
        "out_Red_mean2=(out_Red2).mean()\r\n",
        "out_Blue_mean2=(out_Blue2).mean()\r\n",
        "out_Green_mean2=(out_Green2).mean()\r\n"
      ],
      "execution_count": 199,
      "outputs": []
    },
    {
      "cell_type": "code",
      "metadata": {
        "colab": {
          "base_uri": "https://localhost:8080/"
        },
        "id": "0brgRGxfvbVS",
        "outputId": "fdb55021-b8ed-4982-9dea-9fb3f073ec01"
      },
      "source": [
        "out_Red_mean"
      ],
      "execution_count": 200,
      "outputs": [
        {
          "output_type": "execute_result",
          "data": {
            "text/plain": [
              "tensor(107.1859)"
            ]
          },
          "metadata": {
            "tags": []
          },
          "execution_count": 200
        }
      ]
    },
    {
      "cell_type": "code",
      "metadata": {
        "colab": {
          "base_uri": "https://localhost:8080/"
        },
        "id": "Q-L10OWv57P1",
        "outputId": "7f3c986e-3c46-44bd-eebe-cc0e0ec4c783"
      },
      "source": [
        "out_Red_mean2"
      ],
      "execution_count": 201,
      "outputs": [
        {
          "output_type": "execute_result",
          "data": {
            "text/plain": [
              "tensor(88.3720)"
            ]
          },
          "metadata": {
            "tags": []
          },
          "execution_count": 201
        }
      ]
    },
    {
      "cell_type": "code",
      "metadata": {
        "colab": {
          "base_uri": "https://localhost:8080/"
        },
        "id": "-8p7vxEevcF1",
        "outputId": "303e84cb-14a9-4da1-a6f0-49a948d6b692"
      },
      "source": [
        "out_Blue_mean"
      ],
      "execution_count": 202,
      "outputs": [
        {
          "output_type": "execute_result",
          "data": {
            "text/plain": [
              "tensor(143.7254)"
            ]
          },
          "metadata": {
            "tags": []
          },
          "execution_count": 202
        }
      ]
    },
    {
      "cell_type": "code",
      "metadata": {
        "colab": {
          "base_uri": "https://localhost:8080/"
        },
        "id": "qEQ1I7ah572u",
        "outputId": "5626ae9b-2a09-48df-c8fe-641a2a93e3a9"
      },
      "source": [
        "out_Blue_mean2"
      ],
      "execution_count": 203,
      "outputs": [
        {
          "output_type": "execute_result",
          "data": {
            "text/plain": [
              "tensor(118.2672)"
            ]
          },
          "metadata": {
            "tags": []
          },
          "execution_count": 203
        }
      ]
    },
    {
      "cell_type": "code",
      "metadata": {
        "colab": {
          "base_uri": "https://localhost:8080/"
        },
        "id": "_lixKdwAvbXr",
        "outputId": "14c005e6-a276-49b3-bf0d-099e5eeb51ac"
      },
      "source": [
        "out_Green_mean"
      ],
      "execution_count": 204,
      "outputs": [
        {
          "output_type": "execute_result",
          "data": {
            "text/plain": [
              "tensor(72.6740)"
            ]
          },
          "metadata": {
            "tags": []
          },
          "execution_count": 204
        }
      ]
    },
    {
      "cell_type": "code",
      "metadata": {
        "colab": {
          "base_uri": "https://localhost:8080/"
        },
        "id": "76tv0GBQ58eq",
        "outputId": "9f0c1de8-a8cc-46c6-d9a2-2b118fbe54ee"
      },
      "source": [
        "out_Green_mean2"
      ],
      "execution_count": 205,
      "outputs": [
        {
          "output_type": "execute_result",
          "data": {
            "text/plain": [
              "tensor(52.2545)"
            ]
          },
          "metadata": {
            "tags": []
          },
          "execution_count": 205
        }
      ]
    },
    {
      "cell_type": "code",
      "metadata": {
        "id": "AwuTBCpsqkpO"
      },
      "source": [
        "RedChannel_mean_Red = out_Red[0, :,:].mean();\r\n",
        "GreenChannel_mean_Red = out_Red[1, :,:].mean();\r\n",
        "BlueChannel_mean_Red = out_Red[2, :,:].mean();\r\n",
        "RedChannel_mean_Red=\"{:.3f}\".format(RedChannel_mean_Red)\r\n",
        "GreenChannel_mean_Red = \"{:.3f}\".format(GreenChannel_mean_Red)\r\n",
        "BlueChannel_mean_Red=\"{:.3f}\".format(BlueChannel_mean_Red)\r\n",
        "\r\n",
        "RedChannel_mean_Red2 = out_Red2[0, :,:].mean();\r\n",
        "GreenChannel_mean_Red2 = out_Red2[1, :,:].mean();\r\n",
        "BlueChannel_mean_Red2 = out_Red2[2, :,:].mean();\r\n",
        "RedChannel_mean_Red2=\"{:.3f}\".format(RedChannel_mean_Red2)\r\n",
        "GreenChannel_mean_Red2 = \"{:.3f}\".format(GreenChannel_mean_Red2)\r\n",
        "BlueChannel_mean_Red2=\"{:.3f}\".format(BlueChannel_mean_Red2)\r\n",
        "\r\n",
        "\r\n",
        "\r\n"
      ],
      "execution_count": 207,
      "outputs": []
    },
    {
      "cell_type": "code",
      "metadata": {
        "id": "9x-c9T9FzAnz"
      },
      "source": [
        "RedChannel_mean_Blue = out_Blue[0, :,:].mean();\r\n",
        "GreenChannel_mean_Blue = out_Blue[1, :,:].mean();\r\n",
        "BlueChannel_mean_Blue = out_Blue[2, :,:].mean();\r\n",
        "RedChannel_mean_Blue=\"{:.3f}\".format(RedChannel_mean_Blue)\r\n",
        "GreenChannel_mean_Blue = \"{:.3f}\".format(GreenChannel_mean_Blue)\r\n",
        "BlueChannel_mean_Blue=\"{:.3f}\".format(BlueChannel_mean_Blue)\r\n",
        "\r\n",
        "RedChannel_mean_Blue2 = out_Blue2[0, :,:].mean();\r\n",
        "GreenChannel_mean_Blue2 = out_Blue2[1, :,:].mean();\r\n",
        "BlueChannel_mean_Blue2 = out_Blue2[2, :,:].mean();\r\n",
        "RedChannel_mean_Blue2=\"{:.3f}\".format(RedChannel_mean_Blue2)\r\n",
        "GreenChannel_mean_Blue2 = \"{:.3f}\".format(GreenChannel_mean_Blue2)\r\n",
        "BlueChannel_mean_Blue2=\"{:.3f}\".format(BlueChannel_mean_Blue2)\r\n",
        "\r\n"
      ],
      "execution_count": 206,
      "outputs": []
    },
    {
      "cell_type": "code",
      "metadata": {
        "id": "mVWirHH4zAwE"
      },
      "source": [
        "RedChannel_mean_Green = out_Green[0, :,:].mean();\r\n",
        "GreenChannel_mean_Green = out_Green[1, :,:].mean();\r\n",
        "BlueChannel_mean_Green = out_Green[2, :,:].mean();\r\n",
        "RedChannel_mean_Green=\"{:.3f}\".format(RedChannel_mean_Green)\r\n",
        "GreenChannel_mean_Green = \"{:.3f}\".format(GreenChannel_mean_Green)\r\n",
        "BlueChannel_mean_Green=\"{:.3f}\".format(BlueChannel_mean_Green)\r\n",
        "\r\n",
        "RedChannel_mean_Green2 = out_Green2[0, :,:].mean();\r\n",
        "GreenChannel_mean_Green2 = out_Green2[1, :,:].mean();\r\n",
        "BlueChannel_mean_Green2 = out_Green2[2, :,:].mean();\r\n",
        "RedChannel_mean_Green2=\"{:.3f}\".format(RedChannel_mean_Green2)\r\n",
        "GreenChannel_mean_Green2 = \"{:.3f}\".format(GreenChannel_mean_Green2)\r\n",
        "BlueChannel_mean_Green2=\"{:.3f}\".format(BlueChannel_mean_Green2)\r\n"
      ],
      "execution_count": 209,
      "outputs": []
    },
    {
      "cell_type": "code",
      "metadata": {
        "colab": {
          "base_uri": "https://localhost:8080/"
        },
        "id": "U8WMC1UJudZV",
        "outputId": "ece4a8a2-7641-4ab9-f694-d6446d2fa609"
      },
      "source": [
        "print(f\"Red Image 1 mean RGB values {RedChannel_mean_Red}, {GreenChannel_mean_Red}, {BlueChannel_mean_Red}\")\r\n",
        "\r\n",
        "print(f\"Red Image 2 mean RGB values {RedChannel_mean_Red2}, {GreenChannel_mean_Red2}, {BlueChannel_mean_Red2}\")\r\n"
      ],
      "execution_count": 210,
      "outputs": [
        {
          "output_type": "stream",
          "text": [
            "Red Image 1 mean RGB values 149.722, 90.172, 81.664\n",
            "Red Image 2 mean RGB values 136.872, 60.046, 68.199\n"
          ],
          "name": "stdout"
        }
      ]
    },
    {
      "cell_type": "code",
      "metadata": {
        "colab": {
          "base_uri": "https://localhost:8080/"
        },
        "id": "KKpAJpZruIk-",
        "outputId": "8dd160d1-63a8-4f03-f777-2e4487d36e88"
      },
      "source": [
        "print(f\"Blue Image 1 mean RGB values {RedChannel_mean_Blue}, {GreenChannel_mean_Blue}, {BlueChannel_mean_Blue}\")\r\n",
        "print(f\"Blue Image 2 mean RGB values {RedChannel_mean_Blue2}, {GreenChannel_mean_Blue2}, {BlueChannel_mean_Blue2}\")"
      ],
      "execution_count": 211,
      "outputs": [
        {
          "output_type": "stream",
          "text": [
            "Blue Image 1 mean RGB values 157.153, 146.281, 127.743\n",
            "Blue Image 2 mean RGB values 73.183, 116.108, 165.511\n"
          ],
          "name": "stdout"
        }
      ]
    },
    {
      "cell_type": "code",
      "metadata": {
        "colab": {
          "base_uri": "https://localhost:8080/"
        },
        "id": "jqS4v32evpYg",
        "outputId": "ed38a6fd-a397-4ad3-fd27-479780ab0a19"
      },
      "source": [
        "print(f\"Green Image 1 mean RGB values {RedChannel_mean_Green}, {GreenChannel_mean_Green}, {BlueChannel_mean_Green}\")\r\n",
        "print(f\"Green Image 2 mean RGB values {RedChannel_mean_Green2}, {GreenChannel_mean_Green2}, {BlueChannel_mean_Green2}\")"
      ],
      "execution_count": 212,
      "outputs": [
        {
          "output_type": "stream",
          "text": [
            "Green Image 1 mean RGB values 81.909, 100.762, 35.351\n",
            "Green Image 2 mean RGB values 62.009, 72.499, 22.255\n"
          ],
          "name": "stdout"
        }
      ]
    }
  ]
}